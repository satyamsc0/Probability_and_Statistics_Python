{
 "cells": [
  {
   "cell_type": "code",
   "execution_count": 1,
   "metadata": {},
   "outputs": [],
   "source": [
    "import numpy as np"
   ]
  },
  {
   "cell_type": "markdown",
   "metadata": {},
   "source": [
    "#### Rolling a dice"
   ]
  },
  {
   "cell_type": "markdown",
   "metadata": {},
   "source": [
    "1. Basic Probability (Do both the following problems ) [8+4=12 points]\n",
    "\n",
    "    a. Consider an experiment consisting of rolling a dice twice. The outcome of this experiment is an\n",
    "    ordered pair whose first element is the first value rolled and whose second element is the second\n",
    "    value rolled.\n",
    "\n",
    "        i. Find the sample space.\n",
    "        ii. Find the set A representing the event that the value on the first roll is greater than or equal to the value on the second roll.\n",
    "        iii. Find the set B corresponding to the event that the first roll is a six.\n",
    "        iv. Let C correspond to the event that the first valued rolled and the second value rolled differ by two. Find A ∩ C.\n",
    "    Note that A,B and C should be subsets of the sample space specified in Part(a).\n"
   ]
  },
  {
   "cell_type": "code",
   "execution_count": 168,
   "metadata": {},
   "outputs": [],
   "source": [
    "def experiment_output(sample_space):\n",
    "    '''\n",
    "    This function accepts sample space, assigns equal probability, and returns equally likely outcome for every element in the sample space\n",
    "    '''\n",
    "    sample_space = sample_space\n",
    "    probab = [1/len(sample_space) for num in sample_space]\n",
    "    return np.random.choice(sample_space, p = probab)"
   ]
  },
  {
   "cell_type": "code",
   "execution_count": 170,
   "metadata": {},
   "outputs": [
    {
     "data": {
      "text/plain": [
       "3"
      ]
     },
     "execution_count": 170,
     "metadata": {},
     "output_type": "execute_result"
    }
   ],
   "source": [
    "# Checking the output of the function\n",
    "dice_sample_space = [1, 2, 3, 4, 5, 6]\n",
    "experiment_output(dice_sample_space)"
   ]
  },
  {
   "cell_type": "markdown",
   "metadata": {},
   "source": [
    "Answer 1.a.(i)"
   ]
  },
  {
   "cell_type": "code",
   "execution_count": 171,
   "metadata": {},
   "outputs": [
    {
     "name": "stdout",
     "output_type": "stream",
     "text": [
      "two_dice_sample_space: [(1, 1), (1, 2), (1, 3), (1, 4), (1, 5), (1, 6), (2, 1), (2, 2), (2, 3), (2, 4), (2, 5), (2, 6), (3, 1), (3, 2), (3, 3), (3, 4), (3, 5), (3, 6), (4, 1), (4, 2), (4, 3), (4, 4), (4, 5), (4, 6), (5, 1), (5, 2), (5, 3), (5, 4), (5, 5), (5, 6), (6, 1), (6, 2), (6, 3), (6, 4), (6, 5), (6, 6)]\n"
     ]
    }
   ],
   "source": [
    "two_dice_sample_space = [(i,j) for i in dice_sample_space for j in dice_sample_space]\n",
    "print('two_dice_sample_space:', two_dice_sample_space)"
   ]
  },
  {
   "cell_type": "markdown",
   "metadata": {},
   "source": [
    "Answer 1.a.(ii)"
   ]
  },
  {
   "cell_type": "code",
   "execution_count": 172,
   "metadata": {},
   "outputs": [
    {
     "name": "stdout",
     "output_type": "stream",
     "text": [
      "set_i_greater_than_j: {(6, 2), (2, 1), (6, 5), (4, 3), (3, 1), (6, 1), (5, 4), (5, 1), (4, 2), (6, 4), (5, 3), (3, 2), (6, 3), (4, 1), (5, 2)}\n"
     ]
    }
   ],
   "source": [
    "set_i_greater_than_j = set([(val[0],val[1]) for val in two_dice_sample_space if val[0] > val[1]])\n",
    "print('set_i_greater_than_j:', set_i_greater_than_j)"
   ]
  },
  {
   "cell_type": "markdown",
   "metadata": {},
   "source": [
    "Answer 1.a.(iii)"
   ]
  },
  {
   "cell_type": "code",
   "execution_count": 173,
   "metadata": {},
   "outputs": [
    {
     "name": "stdout",
     "output_type": "stream",
     "text": [
      "first_val_as_6: {(6, 2), (6, 5), (6, 1), (6, 4), (6, 6), (6, 3)}\n"
     ]
    }
   ],
   "source": [
    "first_val_as_6 = set([(val[0],val[1]) for val in two_dice_sample_space if val[0] == 6])\n",
    "print('first_val_as_6:', first_val_as_6)"
   ]
  },
  {
   "cell_type": "markdown",
   "metadata": {},
   "source": [
    "Answer 1.a.(iv)"
   ]
  },
  {
   "cell_type": "code",
   "execution_count": 174,
   "metadata": {},
   "outputs": [
    {
     "name": "stdout",
     "output_type": "stream",
     "text": [
      "diff_is_2: {(2, 4), (3, 1), (4, 6), (6, 4), (4, 2), (5, 3), (1, 3), (3, 5)}\n"
     ]
    }
   ],
   "source": [
    "diff_is_2 = set([(val[0],val[1]) for val in two_dice_sample_space if abs(val[0] - val[1]) == 2])\n",
    "print('diff_is_2:', diff_is_2)"
   ]
  },
  {
   "cell_type": "code",
   "execution_count": 175,
   "metadata": {},
   "outputs": [
    {
     "name": "stdout",
     "output_type": "stream",
     "text": [
      "set_i_greater_than_j & diff_is_2: {(3, 1), (5, 3), (6, 4), (4, 2)}\n"
     ]
    }
   ],
   "source": [
    "# A ∩ C\n",
    "result = set_i_greater_than_j & diff_is_2\n",
    "print('set_i_greater_than_j & diff_is_2:', result)"
   ]
  },
  {
   "cell_type": "markdown",
   "metadata": {},
   "source": [
    "1. b. Consider two urns, one containing 5 red and 10 white balls, and the other with 5 white and 10\n",
    "    red balls. Now choose one of the urns randomly, and take two random balls from the chosen\n",
    "    urn. Let A be the event that the first ball is red. and B be the event that the second ball is\n",
    "    white. Are A and B independent?"
   ]
  },
  {
   "cell_type": "code",
   "execution_count": 31,
   "metadata": {},
   "outputs": [
    {
     "name": "stdout",
     "output_type": "stream",
     "text": [
      "prob_a_and_b: 0.22 \n",
      "prob_ball1_is_red: 0.5 \n",
      "prob_ball2_is_white: 0.5 \n",
      "prob_ball2_is_white_wo_rep: 0.5 \n",
      "are_a_and_b_independent with replacement: False \n",
      "prob_a_and_b_wo_rep: 0.24 \n",
      "are_a_and_b_independent without replacement: False\n"
     ]
    }
   ],
   "source": [
    "# urn 1 specifications\n",
    "red_balls1 = 5\n",
    "white_balls1 = 10\n",
    "\n",
    "urn1_sample_space = ['red'] * red_balls1 + ['white'] * white_balls1\n",
    "np.random.shuffle(urn1_sample_space)\n",
    "# print(urn1_sample_space)\n",
    "\n",
    "# urn 2 specifications\n",
    "red_balls2 = 10\n",
    "white_balls2 = 5\n",
    "\n",
    "urn2_sample_space = ['red']*red_balls2 + ['white'] * white_balls2\n",
    "np.random.shuffle(urn2_sample_space)\n",
    "# print(urn2_sample_space)\n",
    "\n",
    "num_iterations = 10000\n",
    "\n",
    "favorable_outcomes = 0\n",
    "red_balls = 0\n",
    "white_balls = 0\n",
    "favorable_outcomes_wo_rep = 0\n",
    "white_balls_wo_rep = 0\n",
    "\n",
    "# run experiment to choose 2 balls 10000 times\n",
    "for i in range(num_iterations):\n",
    "\n",
    "    # randomly choosing an urn\n",
    "    urn_chosen = np.random.choice([1,2])\n",
    "\n",
    "    ##########################################################################################\n",
    "    \n",
    "    # choosing with replacement\n",
    "    ball1 = experiment_output(urn1_sample_space if urn_chosen == 1 else urn2_sample_space)\n",
    "    ball2 = experiment_output(urn1_sample_space if urn_chosen == 1 else urn2_sample_space)\n",
    "\n",
    "    # favorable outcomes of 1st ball is red and 2nd ball is white\n",
    "    if ball1 == 'red' and ball2 == 'white':\n",
    "        favorable_outcomes += 1\n",
    "\n",
    "    # event ball1 is red\n",
    "    if ball1 == 'red':\n",
    "        red_balls += 1\n",
    "    \n",
    "    # event ball2 is white\n",
    "    if ball2 == 'white':\n",
    "        white_balls += 1\n",
    "\n",
    "    ##########################################################################################\n",
    "    \n",
    "    # choosing without replacement\n",
    "    new_urn_sample_space = list(urn1_sample_space if (urn_chosen == 1) else urn2_sample_space)\n",
    "    new_urn_sample_space.remove(ball1)\n",
    "\n",
    "    ball2_wo_rep = experiment_output(new_urn_sample_space)\n",
    "\n",
    "    # event ball2_wo_rep is white (without replacement case)\n",
    "    if ball2_wo_rep == 'white':\n",
    "        white_balls_wo_rep += 1\n",
    "        \n",
    "    # favorable outcomes of 1st ball is red and 2nd ball is white without replacement\n",
    "    if ball1 == 'red' and ball2_wo_rep == 'white':\n",
    "        favorable_outcomes_wo_rep += 1\n",
    "\n",
    "    ##########################################################################################\n",
    "    \n",
    "\n",
    "prob_a_and_b = round(favorable_outcomes/num_iterations, 2)\n",
    "prob_ball1_is_red = round(red_balls/num_iterations, 2)\n",
    "prob_ball2_is_white = round(white_balls/num_iterations, 2)\n",
    "\n",
    "prob_a_and_b_wo_rep = round(favorable_outcomes_wo_rep/num_iterations, 2)\n",
    "prob_ball2_is_white_wo_rep = round(white_balls_wo_rep/num_iterations, 2)\n",
    "\n",
    "are_a_and_b_independent = (prob_a_and_b == round(prob_ball1_is_red*prob_ball2_is_white, 2))\n",
    "are_a_and_b_independent_wo_rep = (prob_a_and_b_wo_rep == round(prob_ball1_is_red*prob_ball2_is_white_wo_rep, 2))\n",
    "\n",
    "print('prob_a_and_b:', prob_a_and_b, '\\nprob_ball1_is_red:', prob_ball1_is_red, '\\nprob_ball2_is_white:',prob_ball2_is_white, \\\n",
    "      '\\nprob_ball2_is_white_wo_rep:', prob_ball2_is_white_wo_rep, '\\nare_a_and_b_independent with replacement:', are_a_and_b_independent, \\\n",
    "        '\\nprob_a_and_b_wo_rep:', prob_a_and_b_wo_rep, '\\nare_a_and_b_independent without replacement:', are_a_and_b_independent_wo_rep)"
   ]
  },
  {
   "cell_type": "code",
   "execution_count": 27,
   "metadata": {},
   "outputs": [
    {
     "name": "stdout",
     "output_type": "stream",
     "text": [
      "['red', 'red', 'white', 'red', 'white']\n"
     ]
    }
   ],
   "source": [
    "a = ['red', 'white', 'red', 'white','red', 'white']\n",
    "b = ['red', 'white', 'white', 'white','red', 'white']\n",
    "n = 1\n",
    "c = (a if (n == 1) else b)\n",
    "c.remove('white')\n",
    "print(c)"
   ]
  },
  {
   "cell_type": "code",
   "execution_count": 127,
   "metadata": {},
   "outputs": [],
   "source": [
    "p_red = (1/2)*(5/15 + 10/15)\n",
    "p_white = (1/2)*(10/15 + 5/15)\n",
    "p_red_then_white = (1/2)*(5/15 + 10/15)"
   ]
  },
  {
   "cell_type": "markdown",
   "metadata": {},
   "source": [
    "##### 2.  Probability  in  Medical  science: "
   ]
  },
  {
   "cell_type": "markdown",
   "metadata": {},
   "source": [
    "a. A new medical test has been designed to detect the presence of the mysterious Brain lesserian\n",
    "disease. Among those who have the disease, the probability that the disease will be detected\n",
    "by the new test is 0.86 (sensitivity). However, the probability that the test will erroneously\n",
    "indicate the presence of the disease in those who do not actually have it is 0.08 (1-specificity).\n",
    "It is estimated that 16% of the population has the disease."
   ]
  },
  {
   "cell_type": "markdown",
   "metadata": {},
   "source": [
    "    i. If the test administered to an individual is positive, what is the probability that the person actually has the disease?\n",
    "\n",
    "    ii. Now suppose that the same individual was born in the exotic island of Nobrain, close to Antarctica, where 60% of the population is estimated to have the disease."
   ]
  },
  {
   "cell_type": "code",
   "execution_count": 57,
   "metadata": {},
   "outputs": [],
   "source": [
    "def exp_result(sample_space, prob):\n",
    "    return np.random.choice(sample_space, p = prob)"
   ]
  },
  {
   "cell_type": "code",
   "execution_count": 58,
   "metadata": {},
   "outputs": [],
   "source": [
    "def health_test_status(is_diseased_prob, tests_positive_when_diseased, tests_positive_when_not_diseased):\n",
    "    samp_space = ['diseased', 'healthy']\n",
    "    diseased_prob_list = [is_diseased_prob, 1-is_diseased_prob]\n",
    "\n",
    "    health_status = exp_result(samp_space, diseased_prob_list)\n",
    "\n",
    "    if health_status == 'diseased': # when person is actually diseased\n",
    "        test_samp_space = ['positive', 'negative']\n",
    "        test_prob_list = [tests_positive_when_diseased, 1-tests_positive_when_diseased]\n",
    "        \n",
    "        test_result = exp_result(test_samp_space, test_prob_list)\n",
    "\n",
    "    else: # when person is actually healthy\n",
    "        test_samp_space = ['positive', 'negative']\n",
    "        test_prob_list = [tests_positive_when_not_diseased, 1-tests_positive_when_not_diseased]\n",
    "        \n",
    "        test_result = exp_result(test_samp_space, test_prob_list)\n",
    "\n",
    "    return health_status + '_' + test_result"
   ]
  },
  {
   "cell_type": "code",
   "execution_count": 62,
   "metadata": {},
   "outputs": [],
   "source": [
    "def health_status_probabilities(num_iterations, is_diseased_prob, tests_positive_when_diseased, tests_positive_when_not_diseased):\n",
    "            \n",
    "    dp = 0\n",
    "    dn = 0\n",
    "    hp = 0\n",
    "    hn = 0\n",
    "\n",
    "    for i in range(num_iterations):\n",
    "        \n",
    "        status = health_test_status(is_diseased_prob, tests_positive_when_diseased, tests_positive_when_not_diseased)\n",
    "        if status == 'diseased_positive':\n",
    "            dp += 1\n",
    "        elif status == 'diseased_negative':\n",
    "            dn += 1\n",
    "        elif status == 'healthy_positive':\n",
    "            hp += 1\n",
    "        else:\n",
    "            hn += 1\n",
    "\n",
    "    return [dp/num_iterations, dn/num_iterations, hp/num_iterations, hn/num_iterations]"
   ]
  },
  {
   "cell_type": "code",
   "execution_count": 65,
   "metadata": {},
   "outputs": [
    {
     "name": "stdout",
     "output_type": "stream",
     "text": [
      "i. If the test administered is positive, the probability that the person actually has the disease: 0.1413\n",
      "ii. If the test administered is positive, the probability that the person actually has the disease (Antarctica): 0.5169\n"
     ]
    }
   ],
   "source": [
    "is_diseased_prob = 0.16\n",
    "is_diseased_prob_antarctica = 0.60\n",
    "tests_positive_when_diseased = 0.86 # sensitivity\n",
    "tests_negative_when_diseased = 0.14 # 1-sensitivity\n",
    "tests_positive_when_not_diseased = 0.08 # 1-specificity\n",
    "tests_negative_when_not_diseased = 0.92 # specificity\n",
    "\n",
    "\n",
    "num_iterations = 10000\n",
    "\n",
    "prob_dp = health_status_probabilities(num_iterations, is_diseased_prob, tests_positive_when_diseased, \\\n",
    "    tests_positive_when_not_diseased)[0]\n",
    "\n",
    "print('i. If the test administered is positive, the probability that the person actually has the disease:', prob_dp)\n",
    "\n",
    "\n",
    "# for antarctica:\n",
    "prob_dp_antarc = health_status_probabilities(num_iterations, is_diseased_prob_antarctica, tests_positive_when_diseased, \\\n",
    "    tests_positive_when_not_diseased)[0]\n",
    "\n",
    "print('ii. If the test administered is positive, the probability that the person actually has the disease (Antarctica):', prob_dp_antarc)"
   ]
  },
  {
   "cell_type": "markdown",
   "metadata": {},
   "source": [
    "2. b. In a Japanese cohort study, 5,322 male non-smokers and 7,019 male smokers were followed for\n",
    "four years. Of these men, 16 non-smokers and 77 smokers developed lung cancer.\n",
    "\n",
    "- i. What is the probability that a randomly chosen non-smoker from this group developed lung\n",
    "cancer?\n",
    "\n",
    "- ii. What is the probability that a randomly chosen smoker from this group developed lung\n",
    "cancer?\n",
    "\n",
    "- iii. Are the events ”smoking” and ”lung cancer” in this example independent?\n",
    "\n",
    "- iv. What is the conditional probability that the patient is a smoker if he has developed lung\n",
    "cancer?"
   ]
  },
  {
   "cell_type": "code",
   "execution_count": 128,
   "metadata": {},
   "outputs": [],
   "source": [
    "def exp_result(sample_space, prob):\n",
    "    return np.random.choice(sample_space, p = prob)"
   ]
  },
  {
   "cell_type": "code",
   "execution_count": 129,
   "metadata": {},
   "outputs": [],
   "source": [
    "def smoke_cancer_result(num_iterations, sample_space, prob, lc_status):\n",
    "\n",
    "    counter = 0\n",
    "\n",
    "    for i in range(num_iterations):\n",
    "        result = exp_result(sample_space, prob)\n",
    "        if result == lc_status:\n",
    "            counter += 1\n",
    "\n",
    "    return counter / num_iterations"
   ]
  },
  {
   "cell_type": "code",
   "execution_count": 130,
   "metadata": {},
   "outputs": [],
   "source": [
    "# given values of variables\n",
    "male_non_smokers = 5322\n",
    "male_smokers = 7019\n",
    "\n",
    "lc_mns = 16 # lung cancer in man non-smokers\n",
    "lc_ms = 77 # lung cancer in man smokers"
   ]
  },
  {
   "cell_type": "code",
   "execution_count": 152,
   "metadata": {},
   "outputs": [
    {
     "name": "stdout",
     "output_type": "stream",
     "text": [
      "probability that a randomly chosen non-smoker from this group developed lung cancer: 0.00312\n"
     ]
    }
   ],
   "source": [
    "# Ans. 2.b.i.\n",
    "lc_samp_space = ['no_cancer', 'cancer']\n",
    "lc_prob_lst = [(male_non_smokers - lc_mns) / male_non_smokers, lc_mns / male_non_smokers]\n",
    "num_iterations = 100000\n",
    "\n",
    "lc_status = 'cancer'\n",
    "prob_ns_developed_cancer = smoke_cancer_result(num_iterations, lc_samp_space, lc_prob_lst, lc_status)\n",
    "print('probability that a randomly chosen non-smoker from this group developed lung cancer:', prob_ns_developed_cancer)"
   ]
  },
  {
   "cell_type": "code",
   "execution_count": 132,
   "metadata": {},
   "outputs": [
    {
     "name": "stdout",
     "output_type": "stream",
     "text": [
      "probability that a randomly chosen smoker from this group developed lung cancer: 0.009\n"
     ]
    }
   ],
   "source": [
    "# Ans. 2.b.ii.\n",
    "lc_samp_space = ['no_cancer', 'cancer']\n",
    "lc_s_prob_lst = [(male_smokers - lc_ms) / male_smokers, lc_ms/male_smokers]\n",
    "num_iterations = 1000\n",
    "\n",
    "lc_status = 'cancer'\n",
    "prob_s_developed_cancer = smoke_cancer_result(num_iterations, lc_samp_space, lc_s_prob_lst, lc_status)\n",
    "print('probability that a randomly chosen smoker from this group developed lung cancer:', prob_s_developed_cancer)"
   ]
  },
  {
   "cell_type": "code",
   "execution_count": 133,
   "metadata": {},
   "outputs": [
    {
     "name": "stdout",
     "output_type": "stream",
     "text": [
      "is_independent:  False\n"
     ]
    }
   ],
   "source": [
    "# iii. Are the events ”smoking” and ”lung cancer” in this example independent?\n",
    "\n",
    "p_smoke = male_smokers / (male_smokers + male_non_smokers)\n",
    "p_lc = (lc_mns + lc_ms) / (male_smokers + male_non_smokers)\n",
    "p_lc_ms = lc_ms\n",
    "\n",
    "print('is_independent: ', p_smoke * p_lc == p_lc_ms)"
   ]
  },
  {
   "cell_type": "code",
   "execution_count": 138,
   "metadata": {},
   "outputs": [
    {
     "name": "stdout",
     "output_type": "stream",
     "text": [
      "0.006\n"
     ]
    }
   ],
   "source": [
    "# iv. What is the conditional probability that the patient is a smoker if he has developed lung cancer?\n",
    "\n",
    "lc_samp_space = ['cancer', 'no_cancer']\n",
    "lc_s_prob_lst = [(lc_mns + lc_ms) / (male_smokers + male_non_smokers),\n",
    "                 ((male_smokers + male_non_smokers) - (lc_mns + lc_ms)) / (male_smokers + male_non_smokers)]\n",
    "num_iterations = 1000\n",
    "counter = 0\n",
    "\n",
    "for i in range(num_iterations):\n",
    "    lc_status = 'cancer'\n",
    "\n",
    "    if exp_result(lc_samp_space, lc_s_prob_lst) == lc_status:\n",
    "\n",
    "        smoke_samp_space = ['smoker', 'non_smoker']\n",
    "        smoke_prob_lst = [p_smoke, 1-p_smoke]\n",
    "\n",
    "        smoke_status = 'smoker'\n",
    "        if exp_result(smoke_samp_space, smoke_prob_lst) == smoke_status:\n",
    "            counter += 1\n",
    "\n",
    "p_smoker_given_lc = counter / num_iterations\n",
    "print(p_smoker_given_lc)"
   ]
  },
  {
   "cell_type": "markdown",
   "metadata": {},
   "source": [
    "#### Simpson’s Paradox"
   ]
  },
  {
   "cell_type": "markdown",
   "metadata": {},
   "source": [
    "3. A researcher wants to determine the relative efficacies of two drugs. The results efficacies of two\n",
    "drugs. The results (differentiated between men and women) were as follows.\n",
    "        \n",
    "        women   drug I  drug II\n",
    "        \n",
    "        success         200     10\n",
    "        \n",
    "        failure         1800    190\n",
    "        \n",
    "        \n",
    "        men     drug I  drug II\n",
    "        \n",
    "        success         19      1000\n",
    "        \n",
    "        failure         1       1000\n",
    "\n",
    "We are now faced with the question which drug is better. Here are two possible answers:\n",
    "\n",
    "        •Drug I was given to 2020 people, of whom 219 were cured. Drug II was given to 2200 people, of whom 1010 were cured. Therefore, drug II is much better.\n",
    "\n",
    "        •Amongst women, the success rate of drug I is 1/10, and for drug II the success rate is 1/20. Amongst men, these rates are 19/20 and 1/2 respectively. In both cases, that is, for both men and women, drug I wins, and is therefore better.\n",
    "\n",
    "Which of the two answers do you believe? Can you explain the paradox?"
   ]
  },
  {
   "cell_type": "code",
   "execution_count": null,
   "metadata": {},
   "outputs": [
    {
     "name": "stdout",
     "output_type": "stream",
     "text": [
      "overall_success_given_drug1: 0.11\n",
      "overall_success_given_drug2: 0.46\n",
      "\n",
      "women_success_given_drug1: 0.1\n",
      "women_success_given_drug2: 0.05\n",
      "men_success_given_drug1: 0.95\n",
      "men_success_given_drug2: 0.5\n"
     ]
    }
   ],
   "source": [
    "# from given data\n",
    "overall_success_given_drug1 = round(219 / 2020, 2)\n",
    "overall_success_given_drug2 = round(1010 / 2200, 2)\n",
    "\n",
    "print(f'overall_success_given_drug1: {overall_success_given_drug1}', f'overall_success_given_drug2: {overall_success_given_drug2}', sep='\\n')\n",
    "\n",
    "# if we calculate one by one for men and women:\n",
    "\n",
    "# for women:\n",
    "women_success_given_drug1 = 200 / (1800 + 200)\n",
    "women_success_given_drug2 = 10 / (10 + 190)\n",
    "\n",
    "# for men:\n",
    "men_success_given_drug1 = 19 / (19 + 1)\n",
    "men_success_given_drug2 = 1000 / (1000 + 1000)\n",
    "\n",
    "print(f'\\nwomen_success_given_drug1: {women_success_given_drug1}', f'women_success_given_drug2: {women_success_given_drug2}',\\\n",
    "     f'men_success_given_drug1: {men_success_given_drug1}', f'men_success_given_drug2: {men_success_given_drug2}', sep='\\n')\n"
   ]
  },
  {
   "cell_type": "markdown",
   "metadata": {},
   "source": [
    "From above answer, we can clearly observe that:\n",
    " - When we consider on overall basis, without considering men and women separately, drug 2 is more effective.\n",
    " - But when we consider men and women separately, we can clearly observe, drug 1 is much more effective.\n",
    " - This `Paradox` is generated due to different sample sizes."
   ]
  },
  {
   "cell_type": "markdown",
   "metadata": {},
   "source": []
  },
  {
   "cell_type": "markdown",
   "metadata": {},
   "source": [
    "#### 4. Probability in sports:"
   ]
  },
  {
   "cell_type": "markdown",
   "metadata": {},
   "source": [
    "(a) Based on the results of the 2018 NFL season, the probability that a home team scores at least 30 points is 0.312, the probability that a visiting team scores at least 30 points is 0.219, and the probability that both teams score at least 30 points is 0.105.\n",
    "\n",
    "i. Suppose that, in a given game, the home team scores at least 30 points. What is the probability that the visiting team also scores at least 30.\n",
    "\n",
    "ii. Suppose the visiting team scores at least 30 points. What is the probability that the home team scores at least 30 points?\n",
    "\n",
    "iii. Are the events ”the home team scores at least 30 points” and ”the visiting team scores at least 30 points” independent?"
   ]
  },
  {
   "cell_type": "markdown",
   "metadata": {},
   "source": [
    "Ans. 4. a."
   ]
  },
  {
   "cell_type": "code",
   "execution_count": 139,
   "metadata": {},
   "outputs": [],
   "source": [
    "def exp_result(sample_space, prob):\n",
    "    return np.random.choice(sample_space, p = prob)"
   ]
  },
  {
   "cell_type": "code",
   "execution_count": 161,
   "metadata": {},
   "outputs": [
    {
     "name": "stdout",
     "output_type": "stream",
     "text": [
      "i. Probability that visiting team scores at least 30 points given that home team already did: 0.00068\n",
      "ii. Probability that home team scores at least 30 points given that visiting team already did: 0.00068\n",
      "iii. Are the events ”the home team scores at least 30 points” and ”the visiting team scores at least 30 points” independent?: False\n"
     ]
    }
   ],
   "source": [
    "# given values and variables defining\n",
    "p_home_30 = 0.312\n",
    "p_visit_30 = 0.219\n",
    "p_h30_and_v30 = 0.105\n",
    "num_iter = 1000\n",
    "\n",
    "# i. Suppose that, in a given game, the home team scores at least 30 points. What is the probability \n",
    "# that the visiting team also scores at least 30?\n",
    "\n",
    "samp_space = ['yes', 'no']\n",
    "p_h30_lst = [p_home_30, 1 - p_home_30]\n",
    "p_v30_lst = [p_visit_30, 1 - p_visit_30]\n",
    "p_b30_lst = [p_h30_and_v30, 1 - p_h30_and_v30]\n",
    "\n",
    "count_v30_given_h30 = 0\n",
    "for i in range(num_iter):\n",
    "    if exp_result(samp_space, p_h30_lst) == 'yes':\n",
    "        if exp_result(samp_space, p_v30_lst) == 'yes':\n",
    "            count_v30_given_h30 += 1\n",
    "\n",
    "p_v30_given_h30 = count_v30_given_h30 / num_iterations\n",
    "print('i. Probability that visiting team scores at least 30 points given that home team already did:', p_v30_given_h30)\n",
    "\n",
    "\n",
    "# ii. Suppose the visiting team scores at least 30 points. What is the probability that the home team scores at least 30 points?\n",
    "\n",
    "count_h30_given_v30 = 0\n",
    "for i in range(num_iter):\n",
    "    if exp_result(samp_space, p_v30_lst) == 'yes':\n",
    "        if exp_result(samp_space, p_h30_lst) == 'yes':\n",
    "            count_h30_given_v30 += 1\n",
    "\n",
    "p_h30_given_v30 = count_h30_given_v30 / num_iterations\n",
    "print('ii. Probability that home team scores at least 30 points given that visiting team already did:', p_h30_given_v30)\n",
    "\n",
    "\n",
    "# iii. Are the events ”the home team scores at least 30 points” and ”the visiting team scores at least 30 points” independent?\n",
    "h30_counter = 0\n",
    "v30_counter = 0\n",
    "b30_counter = 0\n",
    "\n",
    "for i in range(num_iter):\n",
    "    if exp_result(samp_space, p_h30_lst) == 'yes':\n",
    "        h30_counter += 1\n",
    "    elif exp_result(samp_space, p_v30_lst) == 'yes':\n",
    "        v30_counter += 1\n",
    "    elif exp_result(samp_space, p_b30_lst) == 'yes':\n",
    "        b30_counter += 1\n",
    "\n",
    "p_h30 = h30_counter / num_iter\n",
    "p_v30 = v30_counter / num_iter\n",
    "p_b30 = b30_counter / num_iter\n",
    "\n",
    "print('iii. Are the events ”the home team scores at least 30 points” and ”the visiting team scores at least 30 points” independent?:'\\\n",
    "    , p_b30 == p_h30 * p_v30)"
   ]
  },
  {
   "cell_type": "markdown",
   "metadata": {},
   "source": [
    "4. (b) Consider MLB games in the 1973 to 2017 seasons. The home team won 54.0% of these games\n",
    "and 15.4% of the games were tied after 5 innings. 14.9% of the home team wins came in games\n",
    "that were tied after 5 innings, while 15.9% of the visiting team wins came in games that were\n",
    "tied after 5 innings. These values were taken from the win probability calculator at Click This.\n",
    "\n",
    "    Based on these results, is it correct to conclude that if a game is tied after 5 innings, then\n",
    "the visiting team is more likely to win the game than is the home team? Why or why not?"
   ]
  },
  {
   "cell_type": "code",
   "execution_count": 176,
   "metadata": {},
   "outputs": [],
   "source": [
    "# given values\n",
    "p_home_win = 0.54\n",
    "p_game_ties = 0.154\n",
    "p_home_win_given_tied = 0.149\n",
    "p_visitors_win_given_tied = 0.159"
   ]
  },
  {
   "cell_type": "markdown",
   "metadata": {},
   "source": [
    "Ans. 4. b. Since we don't have enough information, like probability of visiting team winning, number of matches, etc. we cannot calculate the probability asked in the question."
   ]
  },
  {
   "cell_type": "markdown",
   "metadata": {},
   "source": [
    "#### Simulation based problem:"
   ]
  },
  {
   "cell_type": "markdown",
   "metadata": {},
   "source": [
    "5. Consider the following analysis of bus ridership, which (in more complex form) could be used by the bus company/agency to plan the number of buses, frequency of stops and so on. Again, in order to keep things easy, it will be quite oversimplified, but the principles will be clear. Here is the model:\n",
    "\n",
    "    •At each stop, each passenger alights from the bus, independently of the actions of others, with probability 0.2 each.\n",
    "    \n",
    "    •Either 0,1 or 2 new passengers get on the bus, with probabilities 0.5, 0.4 and 0.1, respectively. Passengers at successive stops act independently.\n",
    "    \n",
    "    •Assume the bus is so large that it never becomes full, so the new passengers can always board.\n",
    "    \n",
    "    •Suppose the bus is empty when it arrives at its first stop.\n",
    "\n",
    "Here and throughout, it will be greatly helpful to first name the quantities or events involved. Let Li denote the number of passengers on the bus as it leaves its ith stop, i = 1, 2, 3, . . . Let Bi denote the number of new passengers who board the bus at the ith stop.\n",
    "\n",
    "Find the probability that after visiting the tenth stop, the bus is empty."
   ]
  },
  {
   "cell_type": "markdown",
   "metadata": {},
   "source": [
    "Ans. 5"
   ]
  },
  {
   "cell_type": "code",
   "execution_count": 61,
   "metadata": {},
   "outputs": [],
   "source": [
    "import numpy as np"
   ]
  },
  {
   "cell_type": "code",
   "execution_count": 46,
   "metadata": {},
   "outputs": [],
   "source": [
    "def exp_result(sample_space, prob):\n",
    "    return np.random.choice(sample_space, p = prob)"
   ]
  },
  {
   "cell_type": "code",
   "execution_count": 47,
   "metadata": {},
   "outputs": [],
   "source": [
    "def passengers_in_bus_at_ith_stop(board_samp_space, board_prob, psgr_leaving_prob, i):\n",
    "    psgrs_in_bus = 0 # number of passengers in the bus as it leaves ith stop, initially 0\n",
    "    \n",
    "    for n in range(i):\n",
    "        \n",
    "        num_psgr_can_leave = np.random.randint(0, psgrs_in_bus+1) # randomly choosing how many passengers leaves the bus at ith stop\n",
    "        num_psgr_leaving_at_ith_stop = exp_result([num_psgr_can_leave, 0], [psgr_leaving_prob, 1-psgr_leaving_prob]) # choosing the passengers leaving with probability of 0.2\n",
    "        \n",
    "        psgrs_in_bus -= num_psgr_leaving_at_ith_stop\n",
    "        \n",
    "        num_psgr_boarding = exp_result(board_samp_space, board_prob) # number of passengers who boarded the bus at stop i\n",
    "        psgrs_in_bus += num_psgr_boarding\n",
    "\n",
    "    return psgrs_in_bus"
   ]
  },
  {
   "cell_type": "code",
   "execution_count": 56,
   "metadata": {},
   "outputs": [
    {
     "name": "stdout",
     "output_type": "stream",
     "text": [
      "0.058\n"
     ]
    }
   ],
   "source": [
    "# define variables\n",
    "board_samp_space = [0, 1, 2]\n",
    "board_prob = [0.5, 0.4, 0.1]\n",
    "psgr_leaving_prob = 0.2\n",
    "Li = 0 # number of passengers in the bus as it leaves ith stop\n",
    "num_iterations = 1000\n",
    "counter = 0\n",
    "\n",
    "# finding favourable outcomes in running num_iterations time\n",
    "for _ in range(num_iterations):\n",
    "    if passengers_in_bus_at_ith_stop(board_samp_space, board_prob, psgr_leaving_prob, i=10) == 0:\n",
    "        counter += 1\n",
    "\n",
    "prob_0_psgr_at_ith_stop = counter/num_iterations\n",
    "\n",
    "print(prob_0_psgr_at_ith_stop)"
   ]
  },
  {
   "cell_type": "code",
   "execution_count": 45,
   "metadata": {},
   "outputs": [
    {
     "data": {
      "text/plain": [
       "0"
      ]
     },
     "execution_count": 45,
     "metadata": {},
     "output_type": "execute_result"
    }
   ],
   "source": [
    "np.random.randint(0, 1)"
   ]
  }
 ],
 "metadata": {
  "kernelspec": {
   "display_name": "Python 3",
   "language": "python",
   "name": "python3"
  },
  "language_info": {
   "codemirror_mode": {
    "name": "ipython",
    "version": 3
   },
   "file_extension": ".py",
   "mimetype": "text/x-python",
   "name": "python",
   "nbconvert_exporter": "python",
   "pygments_lexer": "ipython3",
   "version": "3.11.4"
  },
  "orig_nbformat": 4
 },
 "nbformat": 4,
 "nbformat_minor": 2
}
