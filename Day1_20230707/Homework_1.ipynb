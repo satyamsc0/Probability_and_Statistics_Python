{
 "cells": [
  {
   "cell_type": "code",
   "execution_count": 1,
   "metadata": {},
   "outputs": [],
   "source": [
    "import numpy as np"
   ]
  },
  {
   "cell_type": "markdown",
   "metadata": {},
   "source": [
    "#### Rolling a dice"
   ]
  },
  {
   "cell_type": "markdown",
   "metadata": {},
   "source": [
    "1. Basic Probability (Do both the following problems ) [8+4=12 points]\n",
    "\n",
    "    a. Consider an experiment consisting of rolling a dice twice. The outcome of this experiment is an\n",
    "    ordered pair whose first element is the first value rolled and whose second element is the second\n",
    "    value rolled.\n",
    "\n",
    "        i. Find the sample space.\n",
    "        ii. Find the set A representing the event that the value on the first roll is greater than or equal to the value on the second roll.\n",
    "        iii. Find the set B corresponding to the event that the first roll is a six.\n",
    "        iv. Let C correspond to the event that the first valued rolled and the second value rolled differ by two. Find A ∩ C.\n",
    "    Note that A,B and C should be subsets of the sample space specified in Part(a).\n"
   ]
  },
  {
   "cell_type": "code",
   "execution_count": 4,
   "metadata": {},
   "outputs": [],
   "source": [
    "def experiment_output(sample_space):\n",
    "    sample_space = sample_space\n",
    "    probab = [1/len(sample_space) for num in sample_space]\n",
    "    return np.random.choice(sample_space, p = probab)\n"
   ]
  },
  {
   "cell_type": "code",
   "execution_count": 5,
   "metadata": {},
   "outputs": [
    {
     "data": {
      "text/plain": [
       "3"
      ]
     },
     "execution_count": 5,
     "metadata": {},
     "output_type": "execute_result"
    }
   ],
   "source": [
    "dice_sample_space = [1, 2, 3, 4, 5, 6]\n",
    "experiment_output(dice_sample_space)"
   ]
  },
  {
   "cell_type": "markdown",
   "metadata": {},
   "source": [
    "Answer 1.a.(i)"
   ]
  },
  {
   "cell_type": "code",
   "execution_count": 6,
   "metadata": {},
   "outputs": [
    {
     "data": {
      "text/plain": [
       "[(1, 1),\n",
       " (1, 2),\n",
       " (1, 3),\n",
       " (1, 4),\n",
       " (1, 5),\n",
       " (1, 6),\n",
       " (2, 1),\n",
       " (2, 2),\n",
       " (2, 3),\n",
       " (2, 4),\n",
       " (2, 5),\n",
       " (2, 6),\n",
       " (3, 1),\n",
       " (3, 2),\n",
       " (3, 3),\n",
       " (3, 4),\n",
       " (3, 5),\n",
       " (3, 6),\n",
       " (4, 1),\n",
       " (4, 2),\n",
       " (4, 3),\n",
       " (4, 4),\n",
       " (4, 5),\n",
       " (4, 6),\n",
       " (5, 1),\n",
       " (5, 2),\n",
       " (5, 3),\n",
       " (5, 4),\n",
       " (5, 5),\n",
       " (5, 6),\n",
       " (6, 1),\n",
       " (6, 2),\n",
       " (6, 3),\n",
       " (6, 4),\n",
       " (6, 5),\n",
       " (6, 6)]"
      ]
     },
     "execution_count": 6,
     "metadata": {},
     "output_type": "execute_result"
    }
   ],
   "source": [
    "two_dice_sample_space = [(i,j) for i in dice_sample_space for j in dice_sample_space]\n",
    "two_dice_sample_space"
   ]
  },
  {
   "cell_type": "markdown",
   "metadata": {},
   "source": [
    "Answer 1.a.(ii)"
   ]
  },
  {
   "cell_type": "code",
   "execution_count": 7,
   "metadata": {},
   "outputs": [
    {
     "data": {
      "text/plain": [
       "{(2, 1),\n",
       " (3, 1),\n",
       " (3, 2),\n",
       " (4, 1),\n",
       " (4, 2),\n",
       " (4, 3),\n",
       " (5, 1),\n",
       " (5, 2),\n",
       " (5, 3),\n",
       " (5, 4),\n",
       " (6, 1),\n",
       " (6, 2),\n",
       " (6, 3),\n",
       " (6, 4),\n",
       " (6, 5)}"
      ]
     },
     "execution_count": 7,
     "metadata": {},
     "output_type": "execute_result"
    }
   ],
   "source": [
    "set_i_greater_than_j = set([(val[0],val[1]) for val in two_dice_sample_space if val[0] > val[1]])\n",
    "set_i_greater_than_j"
   ]
  },
  {
   "cell_type": "markdown",
   "metadata": {},
   "source": [
    "Answer 1.a.(iii)"
   ]
  },
  {
   "cell_type": "code",
   "execution_count": 8,
   "metadata": {},
   "outputs": [
    {
     "data": {
      "text/plain": [
       "{(6, 1), (6, 2), (6, 3), (6, 4), (6, 5), (6, 6)}"
      ]
     },
     "execution_count": 8,
     "metadata": {},
     "output_type": "execute_result"
    }
   ],
   "source": [
    "first_val_as_6 = set([(val[0],val[1]) for val in two_dice_sample_space if val[0] == 6])\n",
    "first_val_as_6"
   ]
  },
  {
   "cell_type": "markdown",
   "metadata": {},
   "source": [
    "Answer 1.a.(iv)"
   ]
  },
  {
   "cell_type": "code",
   "execution_count": 9,
   "metadata": {},
   "outputs": [
    {
     "data": {
      "text/plain": [
       "{(1, 3), (2, 4), (3, 1), (3, 5), (4, 2), (4, 6), (5, 3), (6, 4)}"
      ]
     },
     "execution_count": 9,
     "metadata": {},
     "output_type": "execute_result"
    }
   ],
   "source": [
    "diff_is_2 = set([(val[0],val[1]) for val in two_dice_sample_space if abs(val[0] - val[1]) == 2])\n",
    "diff_is_2"
   ]
  },
  {
   "cell_type": "code",
   "execution_count": 10,
   "metadata": {},
   "outputs": [
    {
     "data": {
      "text/plain": [
       "{(3, 1), (4, 2), (5, 3), (6, 4)}"
      ]
     },
     "execution_count": 10,
     "metadata": {},
     "output_type": "execute_result"
    }
   ],
   "source": [
    "# A ∩ C\n",
    "result = set_i_greater_than_j & diff_is_2\n",
    "result"
   ]
  },
  {
   "cell_type": "markdown",
   "metadata": {},
   "source": [
    "1. Basic Probability (Do both the following problems ) [8+4=12 points]\n",
    "\n",
    "    b. Consider two urns, one containing 5 red and 10 white balls, and the other with 5 white and 10\n",
    "    red balls. Now choose one of the urns randomly, and take two random balls from the chosen\n",
    "    urn. Let A be the event that the first ball is red. and B be the event that the second ball is\n",
    "    white. Are A and B independent?"
   ]
  },
  {
   "cell_type": "code",
   "execution_count": 31,
   "metadata": {},
   "outputs": [
    {
     "name": "stdout",
     "output_type": "stream",
     "text": [
      "prob_a_and_b: 0.22 \n",
      "prob_ball1_is_red: 0.5 \n",
      "prob_ball2_is_white: 0.5 \n",
      "prob_ball2_is_white_wo_rep: 0.5 \n",
      "are_a_and_b_independent with replacement: False \n",
      "prob_a_and_b_wo_rep: 0.24 \n",
      "are_a_and_b_independent without replacement: False\n"
     ]
    }
   ],
   "source": [
    "# urn 1 specifications\n",
    "red_balls1 = 5\n",
    "white_balls1 = 10\n",
    "\n",
    "urn1_sample_space = ['red'] * red_balls1 + ['white'] * white_balls1\n",
    "np.random.shuffle(urn1_sample_space)\n",
    "# print(urn1_sample_space)\n",
    "\n",
    "# urn 2 specifications\n",
    "red_balls2 = 10\n",
    "white_balls2 = 5\n",
    "\n",
    "urn2_sample_space = ['red']*red_balls2 + ['white'] * white_balls2\n",
    "np.random.shuffle(urn2_sample_space)\n",
    "# print(urn2_sample_space)\n",
    "\n",
    "num_iterations = 10000\n",
    "\n",
    "favorable_outcomes = 0\n",
    "red_balls = 0\n",
    "white_balls = 0\n",
    "favorable_outcomes_wo_rep = 0\n",
    "white_balls_wo_rep = 0\n",
    "\n",
    "# run experiment to choose 2 balls 10000 times\n",
    "for i in range(num_iterations):\n",
    "\n",
    "    # randomly choosing an urn\n",
    "    urn_chosen = np.random.choice([1,2])\n",
    "\n",
    "    ##########################################################################################\n",
    "    \n",
    "    # choosing with replacement\n",
    "    ball1 = experiment_output(urn1_sample_space if urn_chosen == 1 else urn2_sample_space)\n",
    "    ball2 = experiment_output(urn1_sample_space if urn_chosen == 1 else urn2_sample_space)\n",
    "\n",
    "    # favorable outcomes of 1st ball is red and 2nd ball is white\n",
    "    if ball1 == 'red' and ball2 == 'white':\n",
    "        favorable_outcomes += 1\n",
    "\n",
    "    # event ball1 is red\n",
    "    if ball1 == 'red':\n",
    "        red_balls += 1\n",
    "    \n",
    "    # event ball2 is white\n",
    "    if ball2 == 'white':\n",
    "        white_balls += 1\n",
    "\n",
    "    ##########################################################################################\n",
    "    \n",
    "    # choosing without replacement\n",
    "    new_urn_sample_space = list(urn1_sample_space if (urn_chosen == 1) else urn2_sample_space)\n",
    "    new_urn_sample_space.remove(ball1)\n",
    "\n",
    "    ball2_wo_rep = experiment_output(new_urn_sample_space)\n",
    "\n",
    "    # event ball2_wo_rep is white (without replacement case)\n",
    "    if ball2_wo_rep == 'white':\n",
    "        white_balls_wo_rep += 1\n",
    "        \n",
    "    # favorable outcomes of 1st ball is red and 2nd ball is white without replacement\n",
    "    if ball1 == 'red' and ball2_wo_rep == 'white':\n",
    "        favorable_outcomes_wo_rep += 1\n",
    "\n",
    "    ##########################################################################################\n",
    "    \n",
    "\n",
    "prob_a_and_b = round(favorable_outcomes/num_iterations, 2)\n",
    "prob_ball1_is_red = round(red_balls/num_iterations, 2)\n",
    "prob_ball2_is_white = round(white_balls/num_iterations, 2)\n",
    "\n",
    "prob_a_and_b_wo_rep = round(favorable_outcomes_wo_rep/num_iterations, 2)\n",
    "prob_ball2_is_white_wo_rep = round(white_balls_wo_rep/num_iterations, 2)\n",
    "\n",
    "are_a_and_b_independent = (prob_a_and_b == round(prob_ball1_is_red*prob_ball2_is_white, 2))\n",
    "are_a_and_b_independent_wo_rep = (prob_a_and_b_wo_rep == round(prob_ball1_is_red*prob_ball2_is_white_wo_rep, 2))\n",
    "\n",
    "print('prob_a_and_b:', prob_a_and_b, '\\nprob_ball1_is_red:', prob_ball1_is_red, '\\nprob_ball2_is_white:',prob_ball2_is_white, \\\n",
    "      '\\nprob_ball2_is_white_wo_rep:', prob_ball2_is_white_wo_rep, '\\nare_a_and_b_independent with replacement:', are_a_and_b_independent, \\\n",
    "        '\\nprob_a_and_b_wo_rep:', prob_a_and_b_wo_rep, '\\nare_a_and_b_independent without replacement:', are_a_and_b_independent_wo_rep)"
   ]
  },
  {
   "cell_type": "code",
   "execution_count": 27,
   "metadata": {},
   "outputs": [
    {
     "name": "stdout",
     "output_type": "stream",
     "text": [
      "['red', 'red', 'white', 'red', 'white']\n"
     ]
    }
   ],
   "source": [
    "a = ['red', 'white', 'red', 'white','red', 'white']\n",
    "b = ['red', 'white', 'white', 'white','red', 'white']\n",
    "n = 1\n",
    "c = (a if (n == 1) else b)\n",
    "c.remove('white')\n",
    "print(c)"
   ]
  },
  {
   "cell_type": "code",
   "execution_count": 18,
   "metadata": {},
   "outputs": [],
   "source": [
    "p_red = (1/2)*(5/15 + 10/15)\n",
    "p_white = (1/2)*(10/15 + 5/15)\n",
    "p_red_then_white = (1/2)*(5/15 + 10/15) "
   ]
  },
  {
   "cell_type": "markdown",
   "metadata": {},
   "source": [
    "##### 2.  Probability  in  Medical  science: "
   ]
  },
  {
   "cell_type": "markdown",
   "metadata": {},
   "source": [
    "a. A new medical test has been designed to detect the presence of the mysterious Brain lesserian\n",
    "disease. Among those who have the disease, the probability that the disease will be detected\n",
    "by the new test is 0.86 (sensitivity). However, the probability that the test will erroneously\n",
    "indicate the presence of the disease in those who do not actually have it is 0.08 (1-specificity).\n",
    "It is estimated that 16% of the population has the disease."
   ]
  },
  {
   "cell_type": "markdown",
   "metadata": {},
   "source": [
    "i. If the test administered to an individual is positive, what is the probability that the person\n",
    "actually has the disease?\n",
    "Now suppose that the same individual was born in the exotic island of Nobrain, close to\n",
    "Antarctica, where 60% of the population is estimated to have the disease."
   ]
  },
  {
   "cell_type": "code",
   "execution_count": null,
   "metadata": {},
   "outputs": [],
   "source": []
  },
  {
   "cell_type": "code",
   "execution_count": null,
   "metadata": {},
   "outputs": [],
   "source": [
    "\n"
   ]
  },
  {
   "cell_type": "markdown",
   "metadata": {},
   "source": [
    "5."
   ]
  },
  {
   "cell_type": "code",
   "execution_count": 1,
   "metadata": {},
   "outputs": [
    {
     "name": "stdout",
     "output_type": "stream",
     "text": [
      "0.1333546497\n"
     ]
    }
   ],
   "source": [
    "import numpy as np\n",
    "\n",
    "# Define transition matrix\n",
    "P = np.array([[0.5, 0.4, 0.1],\n",
    "              [0.2, 0.5, 0.3],\n",
    "              [0.0, 0.2, 0.8]])\n",
    "\n",
    "# Define initial vector\n",
    "v = np.array([1.0, 0.0, 0.0])\n",
    "\n",
    "# Calculate final vector after 10 stops\n",
    "for i in range(10):\n",
    "    v = v.dot(P)\n",
    "\n",
    "# Print probability of being in state 0 (empty bus)\n",
    "print(v[0])\n"
   ]
  },
  {
   "cell_type": "code",
   "execution_count": 2,
   "metadata": {},
   "outputs": [],
   "source": [
    "import numpy as np"
   ]
  },
  {
   "cell_type": "markdown",
   "metadata": {},
   "source": [
    "Ans. 5"
   ]
  },
  {
   "cell_type": "code",
   "execution_count": 46,
   "metadata": {},
   "outputs": [],
   "source": [
    "def exp_result(sample_space, prob):\n",
    "    return np.random.choice(sample_space, p = prob)"
   ]
  },
  {
   "cell_type": "code",
   "execution_count": 47,
   "metadata": {},
   "outputs": [],
   "source": [
    "def passengers_in_bus_at_ith_stop(board_samp_space, board_prob, psgr_leaving_prob, i):\n",
    "    psgrs_in_bus = 0 # number of passengers in the bus as it leaves ith stop, initially 0\n",
    "    \n",
    "    for n in range(i):\n",
    "        \n",
    "        num_psgr_can_leave = np.random.randint(0, psgrs_in_bus+1) # randomly choosing how many passengers leaves the bus at ith stop\n",
    "        num_psgr_leaving_at_ith_stop = exp_result([num_psgr_can_leave, 0], [psgr_leaving_prob, 1-psgr_leaving_prob]) # choosing the passengers leaving with probability of 0.2\n",
    "        \n",
    "        psgrs_in_bus -= num_psgr_leaving_at_ith_stop\n",
    "        \n",
    "        num_psgr_boarding = exp_result(board_samp_space, board_prob) # number of passengers who boarded the bus at stop i\n",
    "        psgrs_in_bus += num_psgr_boarding\n",
    "\n",
    "    return psgrs_in_bus"
   ]
  },
  {
   "cell_type": "code",
   "execution_count": 56,
   "metadata": {},
   "outputs": [
    {
     "name": "stdout",
     "output_type": "stream",
     "text": [
      "0.058\n"
     ]
    }
   ],
   "source": [
    "# define variables\n",
    "board_samp_space = [0, 1, 2]\n",
    "board_prob = [0.5, 0.4, 0.1]\n",
    "psgr_leaving_prob = 0.2\n",
    "Li = 0 # number of passengers in the bus as it leaves ith stop\n",
    "num_iterations = 1000\n",
    "counter = 0\n",
    "\n",
    "# finding favourable outcomes in running num_iterations time\n",
    "for _ in range(num_iterations):\n",
    "    if passengers_in_bus_at_ith_stop(board_samp_space, board_prob, psgr_leaving_prob, i=10) == 0:\n",
    "        counter += 1\n",
    "\n",
    "prob_0_psgr_at_ith_stop = counter/num_iterations\n",
    "\n",
    "print(prob_0_psgr_at_ith_stop)"
   ]
  },
  {
   "cell_type": "code",
   "execution_count": null,
   "metadata": {},
   "outputs": [],
   "source": []
  },
  {
   "cell_type": "code",
   "execution_count": 45,
   "metadata": {},
   "outputs": [
    {
     "data": {
      "text/plain": [
       "0"
      ]
     },
     "execution_count": 45,
     "metadata": {},
     "output_type": "execute_result"
    }
   ],
   "source": [
    "np.random.randint(0, 1)"
   ]
  }
 ],
 "metadata": {
  "kernelspec": {
   "display_name": "Python 3",
   "language": "python",
   "name": "python3"
  },
  "language_info": {
   "codemirror_mode": {
    "name": "ipython",
    "version": 3
   },
   "file_extension": ".py",
   "mimetype": "text/x-python",
   "name": "python",
   "nbconvert_exporter": "python",
   "pygments_lexer": "ipython3",
   "version": "3.11.4"
  },
  "orig_nbformat": 4
 },
 "nbformat": 4,
 "nbformat_minor": 2
}
