{
 "cells": [
  {
   "cell_type": "code",
   "execution_count": 1,
   "metadata": {},
   "outputs": [
    {
     "name": "stdout",
     "output_type": "stream",
     "text": [
      "The probability of success for a movie with genre 'Action', budget '1200000', language 'English', and country 'USA' is: 0.30\n"
     ]
    }
   ],
   "source": [
    "import pandas as pd\n",
    "\n",
    "# Step 1: Data Collection (Assume you have already collected the IMDb dataset)\n",
    "# For demonstration purposes, we'll create a sample dataset\n",
    "\n",
    "data = {\n",
    "    'genre': ['Action', 'Comedy', 'Drama', 'Action', 'Comedy'],\n",
    "    'budget': [1000000, 500000, 2000000, 1500000, 800000],\n",
    "    'language': ['English', 'English', 'Spanish', 'English', 'Spanish'],\n",
    "    'country': ['USA', 'USA', 'Spain', 'USA', 'Spain'],\n",
    "    'successful': [1, 0, 1, 1, 0]  # 1: Successful, 0: Not successful\n",
    "}\n",
    "\n",
    "df = pd.DataFrame(data)\n",
    "\n",
    "# Step 2: Data Preprocessing (not required in this simplified example)\n",
    "\n",
    "# Step 3: Define Success Metric (for demonstration, let's consider a movie successful if it has a high IMDb rating)\n",
    "# You can replace this with a more appropriate success metric based on your dataset\n",
    "\n",
    "# Step 4: Feature Selection (not required in this simplified example)\n",
    "\n",
    "# Step 5: Probability Calculation\n",
    "def calculate_success_probability(genre, budget, language, country):\n",
    "    genre_count = df[df['genre'] == genre]['successful'].sum()\n",
    "    genre_total = df[df['genre'] == genre]['successful'].count()\n",
    "    \n",
    "    budget_count = df[(df['budget'] >= budget-500000) & (df['budget'] <= budget+500000)]['successful'].sum()\n",
    "    budget_total = df[(df['budget'] >= budget-500000) & (df['budget'] <= budget+500000)]['successful'].count()\n",
    "    \n",
    "    language_count = df[df['language'] == language]['successful'].sum()\n",
    "    language_total = df[df['language'] == language]['successful'].count()\n",
    "    \n",
    "    country_count = df[df['country'] == country]['successful'].sum()\n",
    "    country_total = df[df['country'] == country]['successful'].count()\n",
    "    \n",
    "    genre_probability = genre_count / genre_total\n",
    "    budget_probability = budget_count / budget_total\n",
    "    language_probability = language_count / language_total\n",
    "    country_probability = country_count / country_total\n",
    "    \n",
    "    # We will assume that the probability of success for a movie is the product of individual probabilities\n",
    "    success_probability = genre_probability * budget_probability * language_probability * country_probability\n",
    "    \n",
    "    return success_probability\n",
    "\n",
    "# Step 6: Probability Prediction\n",
    "genre_input = 'Action'\n",
    "budget_input = 1200000\n",
    "language_input = 'English'\n",
    "country_input = 'USA'\n",
    "\n",
    "probability_of_success = calculate_success_probability(genre_input, budget_input, language_input, country_input)\n",
    "print(f\"The probability of success for a movie with genre '{genre_input}', budget '{budget_input}', \"\n",
    "      f\"language '{language_input}', and country '{country_input}' is: {probability_of_success:.2f}\")\n"
   ]
  },
  {
   "cell_type": "code",
   "execution_count": null,
   "metadata": {},
   "outputs": [],
   "source": []
  }
 ],
 "metadata": {
  "kernelspec": {
   "display_name": "Python 3",
   "language": "python",
   "name": "python3"
  },
  "language_info": {
   "codemirror_mode": {
    "name": "ipython",
    "version": 3
   },
   "file_extension": ".py",
   "mimetype": "text/x-python",
   "name": "python",
   "nbconvert_exporter": "python",
   "pygments_lexer": "ipython3",
   "version": "3.11.4"
  },
  "orig_nbformat": 4
 },
 "nbformat": 4,
 "nbformat_minor": 2
}
