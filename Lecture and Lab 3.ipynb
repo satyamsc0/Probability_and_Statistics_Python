{
 "cells": [
  {
   "cell_type": "markdown",
   "metadata": {},
   "source": [
    "# $\\color{blue}{\\text{Lab Session 3 ( AI & DS)}}$ \n",
    "\n"
   ]
  },
  {
   "cell_type": "markdown",
   "metadata": {},
   "source": [
    "### Example: ( Continuous RV  & PDF)\n",
    "Let $X$ be a random variable with PDF given by\n",
    "$$\n",
    "f_{X}(x)= \\begin{cases}c x^{2} & |x| \\leq 1 \\\\ 0 & \\text { otherwise }\\end{cases}\n",
    "$$\n",
    "- (a) Find the constant $c$.\n",
    "\n",
    "- (b) Find $E X$ and $\\operatorname{Var}(X)$.\n",
    "\n",
    "- (c) Find $P\\left(X \\geq \\frac{1}{2}\\right)$.\n",
    "\n",
    "**Solution:**\n",
    "\n",
    "- To find $c$, we can use $\\int_{-\\infty}^{\\infty} f_{X}(u) d u=1$ :\n",
    "$$\n",
    "\\begin{aligned}\n",
    "1 &=\\int_{-\\infty}^{\\infty} f_{X}(u) d u \\\\\n",
    "&=\\int_{-1}^{1} c u^{2} d u \\\\\n",
    "&=\\frac{2}{3} c\n",
    "\\end{aligned}\n",
    "$$\n",
    "Thus, we must have $c=\\frac{3}{2}$.\n",
    "\n",
    "\n",
    "- To find $E X$, we can write\n",
    "$$\n",
    "\\begin{aligned}\n",
    "E X &=\\int_{-1}^{1} u f_{X}(u) d u \\\\\n",
    "&=\\frac{3}{2} \\int_{-1}^{1} u^{3} d u \\\\\n",
    "&=0\n",
    "\\end{aligned}\n",
    "$$\n",
    "\n",
    "In fact, we could have guessed $E X=0$ because the PDF is symmetric around $x=0$. To find $\\operatorname{Var}(X)$, we have\n",
    "\n",
    "$$\n",
    "\\begin{aligned}\n",
    "\\operatorname{Var}(X) &=E X^{2}-(E X)^{2}=E X^{2} \\\\\n",
    "&=\\int_{-1}^{1} u^{2} f_{X}(u) d u \\\\\n",
    "&=\\frac{3}{2} \\int_{-1}^{1} u^{4} d u \\\\\n",
    "&=\\frac{3}{5}\n",
    "\\end{aligned}\n",
    "$$\n",
    "\n",
    "- To find $P\\left(X \\geq \\frac{1}{2}\\right)$, we can write\n",
    "$$\n",
    "P\\left(X \\geq \\frac{1}{2}\\right)=\\frac{3}{2} \\int_{\\frac{1}{2}}^{1} x^{2} d x=\\frac{7}{16}\n",
    "$$\n"
   ]
  },
  {
   "cell_type": "code",
   "execution_count": null,
   "metadata": {},
   "outputs": [],
   "source": [
    "import numpy as np\n",
    "X = np.random.uniform(-1, 1, 10000)\n",
    "Y = [(x * (3 * x * x)) for x in X]\n",
    "E = [((x * x) * (3 * x * x)) for x in X]\n",
    "# mean\n",
    "a = np.mean(Y)\n",
    "print(a)\n",
    "# variance \n",
    "print((np.mean(E))) "
   ]
  },
  {
   "cell_type": "code",
   "execution_count": null,
   "metadata": {},
   "outputs": [],
   "source": [
    "# To calculate P(X>= 1/2)\n",
    "X_1=X = np.random.uniform(0.5, 1, 10000)\n",
    "F = [(0.75 * x * x) for x in X_1]\n",
    "print(np.mean(F))"
   ]
  },
  {
   "cell_type": "markdown",
   "metadata": {},
   "source": [
    "### Example: Connection between Poisson & Exponential distribution\n",
    "\n",
    "Suppose the number of customers arriving at a store obeys a Poisson distribution with an average of $\\lambda$ customers per unit time. That is, if $Y$ is the number of customers arriving in an interval of length $t$, then $Y \\sim Poisson( \\lambda t)$. Suppose that the store opens at time $t=0$. Let $X$ be the arrival time of the first customer. Show that $X \\sim Exponential(\\lambda)$.\n",
    "\n",
    "**Solution:**\n",
    "\n",
    "We first find $P(X>t)$ :\n",
    "$$\n",
    "\\begin{aligned}\n",
    "P(X>t) &=P(\\text { No arrival in }[0, t]) \\\\\n",
    "&=e^{-\\lambda t} \\frac{(\\lambda t)^{0}}{0 !} \\\\\n",
    "&=e^{-\\lambda t}\n",
    "\\end{aligned}\n",
    "$$\n",
    "Thus, the CDF of $X$ for $x>0$ is given by\n",
    "$$\n",
    "F_{X}(x)=1-P(X>x)=1-e^{-\\lambda x},\n",
    "$$\n",
    "which is the CDF of Exponential $(\\lambda)$. Note that by the same argument, the time between the first and second customer also has Exponential $(\\lambda)$ distribution. In general, the time between the $k$ 'th and $k+1$ 'th customer is Exponential $(\\lambda)$.\n",
    "\n",
    "\n",
    "**Remark:** The exponential distribution is often concerned with the amount of time until some specific event occurs. For example, the amount of time (beginning now) until an earthquake occurs has an exponential distribution.\n",
    "\n"
   ]
  },
  {
   "attachments": {
    "exp-1.jpg": {
     "image/jpeg": "[encoded data removed]"
    }
   },
   "cell_type": "markdown",
   "metadata": {},
   "source": [
    "### Example:  (Identify the Distribution)\n",
    "\n",
    "Let $X=$amount of time (in minutes) a postal clerk spends with a customer.\n",
    "The time is known from historical data to have an average amount of time equal to four minutes.\n",
    "It is given that $\\mu=4$ minutes, that is, the average time the clerk spends with a customer is 4 minutes.\n",
    "$$\n",
    "\\lambda=\\frac{1}{\\mu}$$\n",
    "Therefore, \n",
    "$$\n",
    "\\lambda=\\frac{1}{4}=0.25 \\text {. }\n",
    "$$\n",
    "In case of exponential distribution When the notation used the decay parameter, $\\lambda$, the probability density function is presented as $f(x)=\\lambda e^{-\\lambda x}$.\n",
    "\n",
    "When the notation is used the mean parameter then density function is expressed as $f(x)=\\frac{1}{\\mu} e^{-\\frac{1}{\\mu} x}$.\n",
    "\n",
    "To calculate probabilities for an exponential probability density function, we need to use the cumulative density function. \n",
    "\n",
    "**Question:** Find the probability that a clerk spends four to five minutes with a randomly selected customer.\n",
    "\n",
    "The cumulative distribution function (CDF) gives the area to the left. $P(X<x)=1-e^{- \\lambda x}$\n",
    "\n",
    "Now,\n",
    "\n",
    "$P(X<5)=1-e^{(-0.25)(5)}=0.7135$ \n",
    "\n",
    "Similarly, \n",
    "\n",
    "$P(x<4)=1-e^{(-0.25)(4)}=0.6321$\n",
    "\n",
    "Hence,\n",
    "\n",
    "$P(4<X<5)=0.7135-0.6321=0.0814$.\n",
    "\n",
    "![exp-1.jpg](attachment:exp-1.jpg)"
   ]
  },
  {
   "cell_type": "code",
   "execution_count": null,
   "metadata": {},
   "outputs": [],
   "source": [
    "#### Try It : 1 \n",
    "\n",
    "On the average the length of a phone call in a public telephone exchange is $12$ minutes. If another person arrives at a public telephone just before you, find the probability that you will have to wait more than five minutes.\n",
    "\n",
    "**Solution:**\n",
    "\n",
    "\n",
    "<br><br><br>"
   ]
  },
  {
   "cell_type": "markdown",
   "metadata": {},
   "source": [
    "#### Try It : 2\n",
    "\n",
    "On the average, a certain computer part lasts ten years. The length of time the computer part lasts is exponentially distributed.\n",
    "\n",
    "- What is the probability that a computer part lasts more than 7 years?\n",
    "- On the average, how long would five computer parts last if they are used one after another?\n",
    "- What is the probability that a computer part lasts between nine and 11 years?\n",
    "\n",
    "**Solution:**\n",
    "\n",
    "<br><br><br><br><br>"
   ]
  },
  {
   "cell_type": "markdown",
   "metadata": {
    "tags": []
   },
   "source": [
    "### Example: Applications of Central Limit Theorem\n",
    "\n",
    "**Main Idea:** The sample mean will approximately be normally distributed for large sample sizes, regardless of the distribution from which we are sampling. \n",
    "\n",
    "**Another Version Of Central Limit Theorem:**\n",
    "\n",
    "Let $X_{1}, X_{2}, \\ldots$ be a sequence of independent and identically distributed random variables, each having mean $\\mu$ and variance $\\sigma^{2}$. Then the distribution of\n",
    "$$\n",
    "\\frac{X_{1}+\\cdots+X_{n}-n \\mu}{\\sigma \\sqrt{n}}\n",
    "$$\n",
    "tends to the standard normal as $n \\rightarrow \\infty$. That is, for $-\\infty<a<\\infty$,\n",
    "$$\n",
    "P\\left\\{\\frac{X_{1}+\\cdots+X_{n}-n \\mu}{\\sigma \\sqrt{n}} \\leq a\\right\\} \\rightarrow \\frac{1}{\\sqrt{2 \\pi}} \\int_{-\\infty}^{a} e^{-x^{2} / 2} d x \\text { as } n \\rightarrow \\infty\n",
    "$$\n",
    "\n"
   ]
  },
  {
   "cell_type": "code",
   "execution_count": null,
   "metadata": {},
   "outputs": [],
   "source": [
    "import numpy\n",
    "import matplotlib.pyplot as plt\n",
    " \n",
    "# number of sample\n",
    "num = [10, 100, 500, 1000] \n",
    "# list of sample means\n",
    "means = [] \n",
    " \n",
    "# Generating 1, 10, 30, 100 random numbers from -40 to 40\n",
    "# taking their mean and appending it to list means.\n",
    "for j in num:\n",
    "    # Generating seed so that we can get same result\n",
    "    # every time the loop is run...\n",
    "    numpy.random.seed(1)\n",
    "    x = [numpy.mean(\n",
    "        numpy.random.randint(\n",
    "            -40, 40, j)) for _i in range(1000)]\n",
    "    means.append(x)\n",
    "k = 0\n",
    " \n",
    "# plotting all the means in one figure\n",
    "fig, ax = plt.subplots(2, 2, figsize =(8, 8))\n",
    "for i in range(0, 2):\n",
    "    for j in range(0, 2):\n",
    "        # Histogram for each x stored in means\n",
    "        ax[i, j].hist(means[k], 10, density = True)\n",
    "        ax[i, j].set_title(label = num[k])\n",
    "        k = k + 1 \n",
    "plt.show()"
   ]
  },
  {
   "cell_type": "markdown",
   "metadata": {},
   "source": [
    "### Example: Problem Based on CLT\n",
    "\n",
    "If $10$ fair dice are rolled, find the approximate probability that the sum obtained is\n",
    "between $30$ and $40$, inclusive.\n",
    "\n",
    "**Solution:**\n",
    "\n",
    "Let $X_{i}$ denote the value of the $i$ th die, $i=1,2, \\ldots, 10$. Since\n",
    "$$\n",
    "E\\left(X_{i}\\right)=\\frac{7}{2}, \\quad \\operatorname{Var}\\left(X_{i}\\right)=E\\left[X_{i}^{2}\\right]-\\left(E\\left[X_{i}\\right]\\right)^{2}=\\frac{35}{12},\n",
    "$$\n",
    "\n",
    "\n",
    "Then, central limit theorem yields\n",
    "$$\n",
    "\\begin{aligned}\n",
    "P\\{29.5 \\leq X \\leq 40.5\\} &=P\\left\\{\\frac{29.5-35}{\\sqrt{\\frac{350}{12}}} \\leq \\frac{X-35}{\\sqrt{\\frac{350}{12}}} \\leq \\frac{40.5-35}{\\sqrt{\\frac{350}{12}}}\\right\\} \\\\\n",
    "& \\approx 2 \\Phi(1.0184)-1 \\\\\n",
    "& \\approx .692\n",
    "\\end{aligned}\n",
    "$$"
   ]
  },
  {
   "cell_type": "markdown",
   "metadata": {},
   "source": [
    "### Example: Problem Based on CLT\n",
    "\n",
    "An instructor has $50$ exams that will be graded in sequence. The times required to\n",
    "grade the $50$ exams are independent, with a common distribution that has mean\n",
    "$20$ minutes and standard deviation $4$ minutes. Approximate the probability that the\n",
    "instructor will grade at least $25$ of the exams in the first $450$ minutes of work.\n",
    "\n",
    "**Solution:**\n",
    "\n",
    "If we let $X_{i}$ be the time that it takes to grade exam $i$, then\n",
    "$$\n",
    "X=\\sum_{i=1}^{25} X_{i}\n",
    "$$\n",
    "is the time it takes to grade the first 25 exams. Because the instructor will grade at least 25 exams in the first 450 minutes of work if the time it takes to grade the first 25 exams is less than or equal to 450 , we see that the desired probability is $P\\{X \\leq 450\\}$. To approximate this probability, we use the central limit theorem. Now,\n",
    "$$\n",
    "E[X]=\\sum_{i=1}^{25} E\\left[X_{i}\\right]=25(20)=500\n",
    "$$\n",
    "and\n",
    "$$\n",
    "\\operatorname{Var}(X)=\\sum_{i=1}^{25} \\operatorname{Var}\\left(X_{i}\\right)=25(16)=400\n",
    "$$\n",
    "\n",
    "Consequently, with $Z$ being a standard normal random variable, we have\n",
    "$$\n",
    "\\begin{aligned}\n",
    "P\\{X \\leq 450\\} &=P\\left\\{\\frac{X-500}{\\sqrt{400}} \\leq \\frac{450-500}{\\sqrt{400}}\\right\\} \\\\\n",
    "& \\approx P\\{Z \\leq-2.5\\} \\\\\n",
    "&=P\\{Z \\geq 2.5\\} \\\\\n",
    "&=1-\\Phi(2.5)=.006\n",
    "\\end{aligned}\n",
    "$$\n"
   ]
  },
  {
   "cell_type": "markdown",
   "metadata": {},
   "source": [
    "#### Try It:\n",
    "\n",
    "The cost of unleaded gasoline in the Bay Area once followed an unknown distribution with a mean of $\\$ 4.59$ and a standard deviation of $\\$ 0.10$. Sixteen gas stations from the Bay Area are randomly chosen. We are interested in the average cost of gasoline for the 16 gas stations. The distribution to use for the average cost of gasoline for the 16 gas stations is:\n",
    "\n",
    "- (a) $\\bar{X} \\sim N(4.59,0.10)$\n",
    "- (b) $\\bar{X} \\sim N\\left(4.59, \\frac{0.10}{\\sqrt{16}}\\right)$\n",
    "- (c) $\\bar{X} \\sim N\\left(4.59, \\frac{16}{0.10}\\right)$\n",
    "- (d) $\\bar{X} \\sim N\\left(4.59, \\frac{\\sqrt{16}}{0.10}\\right)$\n",
    "\n",
    "\n",
    "#### Try It:\n",
    "\n",
    " Suppose that a category of world-class runners are known to run a marathon (26 miles) in an average of 145 minutes with a standard deviation of 14 minutes. Consider 49 of the races. Let $\\bar{X}$ the average of the 49 races.\n",
    "- $\\bar{X} \\sim$ ................................\n",
    "<br><br><br><br>\n",
    "- Find the probability that the runner will average between 142 and 146 minutes in these 49 marathons.\n",
    "<br><br><br><br>\n",
    "- Find the $80^{\\text {th }}$ percentile for the average of these 49 marathons.\n",
    "<br><br><br><br>\n",
    "- Find the median of the average running times.\n",
    "<br><br><br><br>\n"
   ]
  },
  {
   "cell_type": "markdown",
   "metadata": {},
   "source": [
    "#### Example: Comparing Distribution Graphically (Q-Q Plot)"
   ]
  },
  {
   "cell_type": "markdown",
   "metadata": {},
   "source": [
    "The Quantile-Quantile (Q-Q) plot is a graphical technique for determining if two data sets come from populations with a common distribution. A q-q plot is a plot of the quantiles of the first data set against the quantiles of the second data set. By a quantile, we mean the fraction (or percent) of points below the given value. That is, the 0.3 (or 30%) quantile is the point at which 30% percent of the data fall below and 70% fall above that value.\n",
    "\n",
    "A 45-degree reference line is also plotted. If the two sets come from a population with the same distribution, the points should fall approximately along this reference line. The greater the departure from this reference line, the greater the evidence for the conclusion that the two data sets have come from populations with different distributions."
   ]
  },
  {
   "cell_type": "code",
   "execution_count": null,
   "metadata": {},
   "outputs": [],
   "source": [
    "import numpy as np\n",
    "import pandas as pd\n",
    "import matplotlib.pyplot as plt\n",
    "import seaborn as sns\n",
    "import statsmodels.api as sm\n",
    "import scipy.stats as stats\n",
    "\n",
    "np_normal = pd.Series(np.random.normal(0, 1, 200))\n",
    "sm.qqplot(np_normal,line='45',fit=True,dist=stats.norm)\n",
    "plt.show()\n"
   ]
  },
  {
   "cell_type": "code",
   "execution_count": null,
   "metadata": {},
   "outputs": [],
   "source": [
    "np_uniform = pd.Series(np.random.uniform(-5, 5, 200))\n",
    "sm.qqplot(np_uniform,line='45',fit=True,dist=stats.norm)\n",
    "plt.show()\n"
   ]
  },
  {
   "cell_type": "code",
   "execution_count": null,
   "metadata": {},
   "outputs": [],
   "source": [
    "np_exp = pd.Series(np.random.exponential(1 , 200))\n",
    "sm.qqplot(np_exp,fit=True,line='45',dist=stats.norm)\n",
    "plt.show()"
   ]
  },
  {
   "cell_type": "markdown",
   "metadata": {},
   "source": [
    "### Example: GENERAL TECHNIQUES FOR SIMULATING CONTINUOUS RANDOM VARIABLES\n",
    "\n",
    "**$\\color{green}{\\text{Proposition}}$:** Suppose a random variable $X$ has a continuous distribution for which the CDF is given by $F_X$. Then the random variable $Y= F_X(X) \\sim U[0,1]$."
   ]
  },
  {
   "cell_type": "markdown",
   "metadata": {},
   "source": [
    "Suppose we know how to generate sample from standard uniform distribution. Now our objective is to generate random sample from $X \\sim F_X$.\n",
    "\n",
    "- **Step-1:** Genrate sample from $U[0,1]$ and suppose the sample is denoted as $u$.\n",
    "- **Step-2:** Calculate the transformation  $Y= F^{-1}_X(U)$.\n",
    "- **Step-3:** $y=F^{-1}_X(u)$ is a sample from the distribution $F_X$\n",
    "\n",
    "\n",
    "Suppose we are trying to generate sample from exponential distribution with rate parameter $\\lambda = 1$.\n",
    "\n",
    "The CDF for Exponential $F_X(x)=1- e^{-x}$\n",
    "\n",
    "From the above proposition $1-e^{-X} \\sim U[0,1]$\n",
    "\n",
    "Therefore, $F^{-1}_X(U)= - log(1-U)$\n",
    "\n",
    "Now suppose $u$ is a random sample from standard uniform distribution , then $y=-log(1-u)$ is a sample from standard exponential distribution.\n",
    "\n",
    "\n"
   ]
  },
  {
   "cell_type": "code",
   "execution_count": null,
   "metadata": {},
   "outputs": [],
   "source": [
    "#How to generate sample from exponential distribution by inverse transformation method. \n",
    "import math\n",
    "X = np.random.uniform(0, 1, 10000)\n",
    "Y =[-1*math.log(1-x) for x in X]\n",
    "plt.hist(Y,bins=20)\n",
    "plt.show()"
   ]
  },
  {
   "cell_type": "code",
   "execution_count": null,
   "metadata": {},
   "outputs": [],
   "source": [
    "#To show that CDF follow standard uniform distribution\n",
    "import math\n",
    "X = np.random.exponential( 1, 10000) #random sample from standard exponential distribution \n",
    "Y=[(1-math.exp(-x)) for x in X] # calculate F_X(x)\n",
    "plt.hist(Y,bins=20) \n",
    "plt.show()"
   ]
  },
  {
   "cell_type": "code",
   "execution_count": null,
   "metadata": {},
   "outputs": [],
   "source": [
    "import numpy as np\n",
    "x = np.array([72,69,75,58,67,70,60,71,59,65])\n",
    "n = x.size\n",
    "theta_hat = np.mean(x)\n",
    "s_hat = np.std(x)\n",
    "\n",
    "print(theta_hat)\n",
    "print(s_hat)"
   ]
  },
  {
   "cell_type": "code",
   "execution_count": null,
   "metadata": {},
   "outputs": [],
   "source": [
    "theta_hat - (s_hat*1.64/(n**0.5))"
   ]
  },
  {
   "cell_type": "code",
   "execution_count": null,
   "metadata": {},
   "outputs": [],
   "source": [
    "theta_hat + (s_hat*1.64/(n**0.5))"
   ]
  }
 ],
 "metadata": {
  "kernelspec": {
   "display_name": "Python 3 (ipykernel)",
   "language": "python",
   "name": "python3"
  },
  "language_info": {
   "codemirror_mode": {
    "name": "ipython",
    "version": 3
   },
   "file_extension": ".py",
   "mimetype": "text/x-python",
   "name": "python",
   "nbconvert_exporter": "python",
   "pygments_lexer": "ipython3",
   "version": "3.10.9"
  }
 },
 "nbformat": 4,
 "nbformat_minor": 4
}
