{
 "cells": [
  {
   "cell_type": "markdown",
   "metadata": {},
   "source": [
    "# Homework 4"
   ]
  },
  {
   "cell_type": "markdown",
   "metadata": {},
   "source": [
    "## 1. Statistical Inference: Estimation"
   ]
  },
  {
   "cell_type": "markdown",
   "metadata": {},
   "source": [
    "***Q. 1. a.***\n",
    "\n",
    "```\n",
    "The observations on number of hours of daily TV watching for the 10 subjects in the 2018 GSS who identified themselves as Islamic were 0,0,1,1,1,2,2,3,3,4.\n",
    "    i. Construct and interpret a 95% confidence interval for the population mean.\n",
    "    ii. Suppose the observation of 4 was incorrectly recorded as 24 . What would you obtain for the 95% confidence interval? What does this suggest about potential effects of outliers on confidence intervals for means?\n",
    "```"
   ]
  },
  {
   "cell_type": "markdown",
   "metadata": {},
   "source": [
    "***Ans. 1. a.***\n",
    "\n",
    "```\n",
    "Given data: 0, 0, 1, 1, 1, 2, 2, 3, 3, 4\n",
    "Sample size (n) = 10\n",
    "\n",
    "Step 1: Calculate the sample mean (x̄) and sample standard deviation (s).\n",
    "\n",
    "x̄ = (0 + 0 + 1 + 1 + 1 + 2 + 2 + 3 + 3 + 4) / 10 = 1.7\n",
    "\n",
    "s = √[(Σ(xi - x̄)^2) / (n - 1)]\n",
    "   = √[((0 - 1.7)^2 + (0 - 1.7)^2 + (1 - 1.7)^2 + (1 - 1.7)^2 + (1 - 1.7)^2 + (2 - 1.7)^2 + (2 - 1.7)^2 + (3 - 1.7)^2 + (3 - 1.7)^2 + (4 - 1.7)^2) / 9]\n",
    "   ≈ √[(8.10) / 9] ≈ √0.90 ≈ 0.95\n",
    "\n",
    "Step 2: Determine the critical value (t*) for a 95% confidence interval with 10 - 1 = 9 degrees of freedom. We can find this value using a t-table or calculator. For a two-tailed 95% confidence interval with 9 degrees of freedom, t* ≈ 2.262.\n",
    "\n",
    "Step 3: Calculate the standard error of the mean (SE) using the formula SE = s / √n ≈ 0.95 / √10 ≈ 0.30.\n",
    "\n",
    "Step 4: Calculate the margin of error (ME) using the formula ME = t* * SE ≈ 2.262 * 0.30 ≈ 0.68.\n",
    "\n",
    "Step 5: Construct the confidence interval:\n",
    "\n",
    "95% Confidence Interval = (x̄ - ME, x̄ + ME)\n",
    "                      ≈ (1.7 - 0.68, 1.7 + 0.68)\n",
    "                      ≈ (1.02, 2.38)\n",
    "\n",
    "Interpretation:\n",
    "We are 95% confident that the true population mean of daily TV watching hours for subjects who identified themselves as Islamic lies within the interval (1.02, 2.38) hours.\n",
    "\n",
    "Now, let's consider the scenario where the observation of 4 was incorrectly recorded as 24. In this case, the data becomes: 0, 0, 1, 1, 1, 2, 2, 3, 3, 24.\n",
    "\n",
    "Step 1: Calculate the new sample mean (x̄) and sample standard deviation (s).\n",
    "\n",
    "x̄ = (0 + 0 + 1 + 1 + 1 + 2 + 2 + 3 + 3 + 24) / 10 = 4.5\n",
    "\n",
    "s = √[(Σ(xi - x̄)^2) / (n - 1)]\n",
    "   = √[((0 - 4.5)^2 + (0 - 4.5)^2 + (1 - 4.5)^2 + (1 - 4.5)^2 + (1 - 4.5)^2 + (2 - 4.5)^2 + (2 - 4.5)^2 + (3 - 4.5)^2 + (3 - 4.5)^2 + (24 - 4.5)^2) / 9]\n",
    "   ≈ √[(170.50) / 9] ≈ √18.94 ≈ 4.35\n",
    "\n",
    "Step 2: Determine the critical value (t*) for a 95% confidence interval with 10 - 1 = 9 degrees of freedom. t* ≈ 2.262 (same as before).\n",
    "\n",
    "Step 3: Calculate the standard error of the mean (SE) using the formula SE = s / √n ≈ 4.35 / √10 ≈ 1.38.\n",
    "\n",
    "Step 4: Calculate the margin of error (ME) using the formula ME = t* * SE ≈ 2.262 * 1.38 ≈ 3.09.\n",
    "\n",
    "Step 5: Construct the confidence interval:\n",
    "\n",
    "95% Confidence Interval = (x̄ - ME, x̄ + ME)\n",
    "                      ≈ (4.5 - 3.09, 4.5 + 3.09)\n",
    "                      ≈ (1.41, 7.59)\n",
    "\n",
    "Comparing the two confidence intervals:\n",
    "\n",
    "Original Data: (1.02, 2.38)\n",
    "Incorrect Data: (1.41, 7.59)\n",
    "\n",
    "The confidence interval obtained with the incorrect data (where 4 was recorded as 24) is wider and covers a larger range of values. This suggests that the outlier (24) has a significant effect on the confidence interval for the mean. Outliers can have a substantial impact on the precision of the estimate, leading to a wider confidence interval and reduced certainty about the true population mean. In practice, it's essential to verify data accuracy and consider the potential influence of outliers on the statistical analysis.\n",
    "```"
   ]
  },
  {
   "cell_type": "markdown",
   "metadata": {},
   "source": [
    "***Q. 1. b.***\n",
    "```\n",
    "The Anorexia data file results for the cognitive behavioral and family therapies and the control\n",
    "group. Using data for the 17 girls who received the family therapy:\n",
    "i. Conduct a descriptive statistical analysis using graphs and numerical summaries.\n",
    "ii. Construct a 95% confidence interval for the population mean change in weight.\n",
    "iii. Construct a 95% confidence interval for the difference between the population mean weight\n",
    "changes for the family therapy and the control. Interpret.\n",
    "```"
   ]
  },
  {
   "cell_type": "markdown",
   "metadata": {},
   "source": [
    "***Ans. 1. b.***\n",
    "\n",
    "```\n",
    "i. Descriptive Statistical Analysis:\n",
    "```"
   ]
  },
  {
   "cell_type": "code",
   "execution_count": 35,
   "metadata": {},
   "outputs": [
    {
     "data": {
      "text/html": [
       "<div>\n",
       "<style scoped>\n",
       "    .dataframe tbody tr th:only-of-type {\n",
       "        vertical-align: middle;\n",
       "    }\n",
       "\n",
       "    .dataframe tbody tr th {\n",
       "        vertical-align: top;\n",
       "    }\n",
       "\n",
       "    .dataframe thead th {\n",
       "        text-align: right;\n",
       "    }\n",
       "</style>\n",
       "<table border=\"1\" class=\"dataframe\">\n",
       "  <thead>\n",
       "    <tr style=\"text-align: right;\">\n",
       "      <th></th>\n",
       "      <th>subject</th>\n",
       "      <th>therapy</th>\n",
       "      <th>before</th>\n",
       "      <th>after</th>\n",
       "      <th>Weight Change</th>\n",
       "    </tr>\n",
       "  </thead>\n",
       "  <tbody>\n",
       "    <tr>\n",
       "      <th>29</th>\n",
       "      <td>30</td>\n",
       "      <td>f</td>\n",
       "      <td>83.8</td>\n",
       "      <td>95.2</td>\n",
       "      <td>11.4</td>\n",
       "    </tr>\n",
       "    <tr>\n",
       "      <th>30</th>\n",
       "      <td>31</td>\n",
       "      <td>f</td>\n",
       "      <td>83.3</td>\n",
       "      <td>94.3</td>\n",
       "      <td>11.0</td>\n",
       "    </tr>\n",
       "    <tr>\n",
       "      <th>31</th>\n",
       "      <td>32</td>\n",
       "      <td>f</td>\n",
       "      <td>86.0</td>\n",
       "      <td>91.5</td>\n",
       "      <td>5.5</td>\n",
       "    </tr>\n",
       "    <tr>\n",
       "      <th>32</th>\n",
       "      <td>33</td>\n",
       "      <td>f</td>\n",
       "      <td>82.5</td>\n",
       "      <td>91.9</td>\n",
       "      <td>9.4</td>\n",
       "    </tr>\n",
       "    <tr>\n",
       "      <th>33</th>\n",
       "      <td>34</td>\n",
       "      <td>f</td>\n",
       "      <td>86.7</td>\n",
       "      <td>100.3</td>\n",
       "      <td>13.6</td>\n",
       "    </tr>\n",
       "  </tbody>\n",
       "</table>\n",
       "</div>"
      ],
      "text/plain": [
       "    subject therapy  before  after  Weight Change\n",
       "29       30       f    83.8   95.2           11.4\n",
       "30       31       f    83.3   94.3           11.0\n",
       "31       32       f    86.0   91.5            5.5\n",
       "32       33       f    82.5   91.9            9.4\n",
       "33       34       f    86.7  100.3           13.6"
      ]
     },
     "execution_count": 35,
     "metadata": {},
     "output_type": "execute_result"
    }
   ],
   "source": [
    "import warnings\n",
    "warnings.filterwarnings('ignore')\n",
    "import numpy as np\n",
    "import pandas as pd\n",
    "import matplotlib.pyplot as plt\n",
    "\n",
    "# Step 1: Load the data\n",
    "with open('Anorexia.dat.txt', 'r') as f:\n",
    "    data = f.read()\n",
    "\n",
    "data = data.strip().split('\\n')\n",
    "data = list(map(lambda x: x.strip().split(), data))\n",
    "data = pd.DataFrame(data[1:], columns=data[0])\n",
    "data = data.astype({'subject': int, 'before': float, 'after': float})\n",
    "data['Weight Change'] = data['after'] - data['before']\n",
    "full_data = data\n",
    "data = data[data['therapy'] == 'f']\n",
    "data.head()"
   ]
  },
  {
   "cell_type": "code",
   "execution_count": 36,
   "metadata": {},
   "outputs": [
    {
     "data": {
      "image/png": "[encoded data removed]",
      "text/plain": [
       "<Figure size 800x600 with 1 Axes>"
      ]
     },
     "metadata": {},
     "output_type": "display_data"
    },
    {
     "data": {
      "image/png": "[encoded data removed]",
      "text/plain": [
       "<Figure size 800x600 with 1 Axes>"
      ]
     },
     "metadata": {},
     "output_type": "display_data"
    },
    {
     "name": "stdout",
     "output_type": "stream",
     "text": [
      "Mean Weight Change: 7.264705882352942\n",
      "Median Weight Change: 9.0\n",
      "Standard Deviation of Weight Change: 7.1574210767977196\n"
     ]
    }
   ],
   "source": [
    "# Step 2: Calculate summary statistics\n",
    "mean_weight_change = data['Weight Change'].mean()\n",
    "median_weight_change = data['Weight Change'].median()\n",
    "std_weight_change = data['Weight Change'].std()\n",
    "\n",
    "# Step 3: Create a histogram to visualize the data distribution\n",
    "plt.figure(figsize=(8, 6))\n",
    "plt.hist(data['Weight Change'], bins=10, edgecolor='black', alpha=0.7)\n",
    "plt.xlabel('Weight Change')\n",
    "plt.ylabel('Frequency')\n",
    "plt.title('Histogram of Weight Change for Family Therapy')\n",
    "plt.grid(True)\n",
    "plt.show()\n",
    "\n",
    "# Create a box plot to identify any outliers\n",
    "plt.figure(figsize=(8, 6))\n",
    "plt.boxplot(data['Weight Change'], vert=False)\n",
    "plt.xlabel('Weight Change')\n",
    "plt.title('Box Plot of Weight Change for Family Therapy')\n",
    "plt.grid(True)\n",
    "plt.show()\n",
    "\n",
    "# Print the summary statistics\n",
    "print(\"Mean Weight Change:\", mean_weight_change)\n",
    "print(\"Median Weight Change:\", median_weight_change)\n",
    "print(\"Standard Deviation of Weight Change:\", std_weight_change)\n"
   ]
  },
  {
   "cell_type": "markdown",
   "metadata": {},
   "source": [
    "```\n",
    "ii. Construct a 95% Confidence Interval for the Population Mean Change in Weight:\n",
    "```\n",
    "To construct the confidence interval for the population mean change in weight, we can use the t-distribution since the sample size is small (n = 17) and the population standard deviation is unknown."
   ]
  },
  {
   "cell_type": "code",
   "execution_count": 37,
   "metadata": {},
   "outputs": [
    {
     "name": "stdout",
     "output_type": "stream",
     "text": [
      "95% Confidence Interval for the Population Mean Change in Weight: (3.584699535877973, 10.94471222882791)\n"
     ]
    }
   ],
   "source": [
    "from scipy.stats import t\n",
    "\n",
    "# Sample size and sample mean\n",
    "n = 17\n",
    "sample_mean = data['Weight Change'].mean()\n",
    "\n",
    "# Calculate the standard error of the mean (SE)\n",
    "standard_error = data['Weight Change'].std() / np.sqrt(n)\n",
    "\n",
    "# Degrees of freedom for the t-distribution\n",
    "degrees_of_freedom = n - 1\n",
    "\n",
    "# Calculate the critical value (t*) for a 95% confidence interval\n",
    "confidence_level = 0.95\n",
    "t_star = t.ppf((1 + confidence_level) / 2, df=degrees_of_freedom)\n",
    "\n",
    "# Calculate the margin of error (ME)\n",
    "margin_of_error = t_star * standard_error\n",
    "\n",
    "# Construct the confidence interval\n",
    "confidence_interval = (sample_mean - margin_of_error, sample_mean + margin_of_error)\n",
    "\n",
    "print(\"95% Confidence Interval for the Population Mean Change in Weight:\", confidence_interval)"
   ]
  },
  {
   "cell_type": "markdown",
   "metadata": {},
   "source": [
    "```\n",
    "iii. Construct a 95% Confidence Interval for the Difference between the Population Mean Weight Changes for Family Therapy and Control:\n",
    "```\n",
    "To construct the confidence interval for the difference between the population mean weight changes for family therapy and control, we can use the two-sample t-test since we have data for both groups (family therapy and control)."
   ]
  },
  {
   "cell_type": "code",
   "execution_count": 38,
   "metadata": {},
   "outputs": [
    {
     "name": "stdout",
     "output_type": "stream",
     "text": [
      "95% Confidence Interval for the Difference in Population Mean Weight Changes (Family Therapy - Control): (2.992241819959861, 12.437169944746021)\n"
     ]
    }
   ],
   "source": [
    "# Control group data\n",
    "data_control = full_data[full_data['therapy'] == 'c']\n",
    "\n",
    "# Sample size and sample mean for the control group\n",
    "n_control = len(data_control)\n",
    "sample_mean_control = data_control['Weight Change'].mean()\n",
    "\n",
    "# Calculate the standard error of the difference in means (SE_diff)\n",
    "standard_error_diff = np.sqrt((data['Weight Change'].var() / n) + (data_control['Weight Change'].var() / n_control))\n",
    "\n",
    "# Degrees of freedom for the two-sample t-test\n",
    "degrees_of_freedom_diff = n + n_control - 2\n",
    "\n",
    "# Calculate the critical value (t*) for a 95% confidence interval\n",
    "t_star_diff = t.ppf((1 + confidence_level) / 2, df=degrees_of_freedom_diff)\n",
    "\n",
    "# Calculate the margin of error (ME_diff)\n",
    "margin_of_error_diff = t_star_diff * standard_error_diff\n",
    "\n",
    "# Calculate the difference in means\n",
    "mean_difference = sample_mean - sample_mean_control\n",
    "\n",
    "# Construct the confidence interval for the difference\n",
    "confidence_interval_diff = (mean_difference - margin_of_error_diff, mean_difference + margin_of_error_diff)\n",
    "\n",
    "print(\"95% Confidence Interval for the Difference in Population Mean Weight Changes (Family Therapy - Control):\", confidence_interval_diff)\n"
   ]
  },
  {
   "cell_type": "markdown",
   "metadata": {},
   "source": [
    "```\n",
    "Interpretation for Part iii:\n",
    "```\n",
    "The 95% confidence interval for the difference between the population mean weight changes for family therapy and the control group represents a range of values within which we are 95% confident that the true difference between the population means lies. If the confidence interval includes zero, it suggests that there may not be a statistically significant difference between the two groups. If the confidence interval does not include zero, it indicates that there is a statistically significant difference between the two groups in terms of their mean weight changes."
   ]
  },
  {
   "cell_type": "markdown",
   "metadata": {},
   "source": [
    "***Q. 1. c.***\n",
    "```\n",
    "The Houses data for 100 home sales in Gainesville, Florida, several variables, including the selling price in thousands of dollars and whether the house is new (1 = yes, 0 = no). Prepare a short report in which, stating all assumptions including the relative importance of each, you\n",
    "conduct descriptive and inferential statistical analyses to compare the selling prices for new and older homes.\n",
    "```"
   ]
  },
  {
   "cell_type": "markdown",
   "metadata": {},
   "source": [
    "***Ans. 1. c.***\n",
    "\n",
    "**Statistical Analysis Report: Comparison of Selling Prices for New and Older Homes in Gainesville, Florida**\n",
    "\n",
    "**1. Introduction:**\n",
    "In this report, we will compare the selling prices of new and older homes in Gainesville, Florida, using data from 100 home sales. The dataset contains several variables, including the selling price in thousands of dollars and whether the house is new (1 = yes, 0 = no). Other fields in the data are size, taxes, number of bedrooms, and number of baths.\n",
    "\n",
    "**2. Assumptions:**\n",
    "Before conducting the analysis, we make the following assumptions:\n",
    "- The dataset is a random sample from the population of home sales in Gainesville, Florida.\n",
    "- The selling prices of homes follow a continuous numerical distribution.\n",
    "- The selling prices of homes are independent of each other.\n",
    "- The sample is large enough to apply inferential statistics (n ≥ 30 for each group).\n",
    "\n",
    "**3. Descriptive Statistical Analysis:**\n",
    "Let's begin by exploring the data and obtaining descriptive statistics for both groups of homes (new and older).\n",
    "\n",
    "**3.1. Summary Statistics:**\n",
    "- We will calculate the mean, median, standard deviation, minimum, and maximum selling prices for both new and older homes.\n",
    "\n",
    "**3.2. Visualization:**\n",
    "- We will create box plots to compare the distributions of selling prices for new and older homes.\n",
    "- We will also create histograms to visualize the frequency distribution of selling prices for each group.\n",
    "\n",
    "**4. Inferential Statistical Analysis:**\n",
    "Next, we will conduct inferential statistical tests to compare the selling prices of new and older homes.\n",
    "\n",
    "**4.1. Hypothesis Testing:**\n",
    "- Null Hypothesis (H0): There is no significant difference in the mean selling prices of new and older homes.\n",
    "- Alternative Hypothesis (Ha): There is a significant difference in the mean selling prices of new and older homes.\n",
    "\n",
    "**4.2. Test Method:**\n",
    "- We will use the two-sample independent t-test to compare the means of the two groups (new and older homes). This test assesses whether the difference in means is statistically significant.\n",
    "\n",
    "**5. Results and Interpretation:**\n",
    "Based on the descriptive and inferential statistical analyses, we will report our findings, including any significant differences in selling prices between new and older homes. We will present the results with appropriate measures of uncertainty, such as confidence intervals and p-values.\n"
   ]
  },
  {
   "cell_type": "code",
   "execution_count": 42,
   "metadata": {},
   "outputs": [
    {
     "data": {
      "image/png": "[encoded data removed]",
      "text/plain": [
       "<Figure size 800x600 with 1 Axes>"
      ]
     },
     "metadata": {},
     "output_type": "display_data"
    },
    {
     "data": {
      "image/png": "[encoded data removed]",
      "text/plain": [
       "<Figure size 800x600 with 1 Axes>"
      ]
     },
     "metadata": {},
     "output_type": "display_data"
    },
    {
     "name": "stdout",
     "output_type": "stream",
     "text": [
      "Descriptive Statistics:\n",
      "Mean Selling Price (New Homes): 436.4454545454546\n",
      "Mean Selling Price (Older Homes): 207.85112359550558\n",
      "Median Selling Price (New Homes): 427.5\n",
      "Median Selling Price (Older Homes): 190.8\n",
      "Standard Deviation (New Homes): 219.83278924508218\n",
      "Standard Deviation (Older Homes): 121.03914866722594\n",
      "Min Selling Price (New Homes): 158.85\n",
      "Min Selling Price (Older Homes): 31.5\n",
      "Max Selling Price (New Homes): 866.25\n",
      "Max Selling Price (Older Homes): 880.5\n",
      "\n",
      "Inferential Statistics:\n",
      "T-statistic: 3.3859599086795438\n",
      "P-value: 0.006262662907276762\n",
      "Based on the p-value, we reject the null hypothesis.\n",
      "There is a significant difference in the mean selling prices of new and older homes.\n"
     ]
    }
   ],
   "source": [
    "import pandas as pd\n",
    "import numpy as np\n",
    "import matplotlib.pyplot as plt\n",
    "from scipy.stats import ttest_ind\n",
    "\n",
    "# Load the data\n",
    "with open('Houses.dat.txt', 'r') as f:\n",
    "    houses_data = f.read()\n",
    "\n",
    "houses_data = houses_data.strip().split('\\n')\n",
    "houses_data = list(map(lambda x: x.strip().split(), houses_data))\n",
    "houses_data = pd.DataFrame(houses_data[1:], columns=houses_data[0])\n",
    "houses_data = houses_data.apply(pd.to_numeric)\n",
    "\n",
    "# 3. Descriptive Statistical Analysis\n",
    "# 3.1 Summary Statistics\n",
    "mean_selling_price_new = houses_data.loc[houses_data['new'] == 1, 'price'].mean()\n",
    "mean_selling_price_older = houses_data.loc[houses_data['new'] == 0, 'price'].mean()\n",
    "\n",
    "median_selling_price_new = houses_data.loc[houses_data['new'] == 1, 'price'].median()\n",
    "median_selling_price_older = houses_data.loc[houses_data['new'] == 0, 'price'].median()\n",
    "\n",
    "std_selling_price_new = houses_data.loc[houses_data['new'] == 1, 'price'].std()\n",
    "std_selling_price_older = houses_data.loc[houses_data['new'] == 0, 'price'].std()\n",
    "\n",
    "min_selling_price_new = houses_data.loc[houses_data['new'] == 1, 'price'].min()\n",
    "min_selling_price_older = houses_data.loc[houses_data['new'] == 0, 'price'].min()\n",
    "\n",
    "max_selling_price_new = houses_data.loc[houses_data['new'] == 1, 'price'].max()\n",
    "max_selling_price_older = houses_data.loc[houses_data['new'] == 0, 'price'].max()\n",
    "\n",
    "# 3.2 Visualization\n",
    "plt.figure(figsize=(8, 6))\n",
    "plt.boxplot([houses_data.loc[houses_data['new'] == 1, 'price'],\n",
    "             houses_data.loc[houses_data['new'] == 0, 'price']],\n",
    "            labels=['New Homes', 'Older Homes'])\n",
    "plt.xlabel('Home Type')\n",
    "plt.ylabel('Selling Price (in thousands of dollars)')\n",
    "plt.title('Box Plot of Selling Prices for New and Older Homes')\n",
    "plt.grid(True)\n",
    "plt.show()\n",
    "\n",
    "plt.figure(figsize=(8, 6))\n",
    "plt.hist(houses_data.loc[houses_data['new'] == 1, 'price'], bins=10, edgecolor='black', alpha=0.7, label='New Homes')\n",
    "plt.hist(houses_data.loc[houses_data['new'] == 0, 'price'], bins=10, edgecolor='black', alpha=0.7, label='Older Homes')\n",
    "plt.xlabel('Selling Price (in thousands of dollars)')\n",
    "plt.ylabel('Frequency')\n",
    "plt.title('Histogram of Selling Prices for New and Older Homes')\n",
    "plt.legend()\n",
    "plt.grid(True)\n",
    "plt.show()\n",
    "\n",
    "# 4. Inferential Statistical Analysis\n",
    "# 4.1 Hypothesis Testing\n",
    "# Assuming alpha (significance level) = 0.05\n",
    "alpha = 0.05\n",
    "\n",
    "# Separate the data for new and older homes\n",
    "selling_prices_new = houses_data.loc[houses_data['new'] == 1, 'price']\n",
    "selling_prices_older = houses_data.loc[houses_data['new'] == 0, 'price']\n",
    "\n",
    "# 4.2 Test Method (Independent Two-sample T-test)\n",
    "t_statistic, p_value = ttest_ind(selling_prices_new, selling_prices_older, equal_var=False)\n",
    "\n",
    "# 5. Results and Interpretation\n",
    "print(\"Descriptive Statistics:\")\n",
    "print(\"Mean Selling Price (New Homes):\", mean_selling_price_new)\n",
    "print(\"Mean Selling Price (Older Homes):\", mean_selling_price_older)\n",
    "print(\"Median Selling Price (New Homes):\", median_selling_price_new)\n",
    "print(\"Median Selling Price (Older Homes):\", median_selling_price_older)\n",
    "print(\"Standard Deviation (New Homes):\", std_selling_price_new)\n",
    "print(\"Standard Deviation (Older Homes):\", std_selling_price_older)\n",
    "print(\"Min Selling Price (New Homes):\", min_selling_price_new)\n",
    "print(\"Min Selling Price (Older Homes):\", min_selling_price_older)\n",
    "print(\"Max Selling Price (New Homes):\", max_selling_price_new)\n",
    "print(\"Max Selling Price (Older Homes):\", max_selling_price_older)\n",
    "\n",
    "print(\"\\nInferential Statistics:\")\n",
    "print(\"T-statistic:\", t_statistic)\n",
    "print(\"P-value:\", p_value)\n",
    "\n",
    "if p_value < alpha:\n",
    "    print(\"Based on the p-value, we reject the null hypothesis.\")\n",
    "    print(\"There is a significant difference in the mean selling prices of new and older homes.\")\n",
    "else:\n",
    "    print(\"Based on the p-value, we fail to reject the null hypothesis.\")\n",
    "    print(\"There is no significant difference in the mean selling prices of new and older homes.\")\n",
    "\n"
   ]
  },
  {
   "cell_type": "markdown",
   "metadata": {},
   "source": [
    "## 2. Statistical Inference: Hypothesis Testing"
   ]
  },
  {
   "cell_type": "markdown",
   "metadata": {},
   "source": [
    "***Q. 2. a.***\n",
    "```\n",
    "Introducing notation for a parameter, state the following hypotheses in terms of the parameter\n",
    "values and indicate whether it is a null hypothesis or an alternative hypothesis.\n",
    "i. The proportion of all adults in the UK who favor legalized gambling equals 0.50.\n",
    "ii. The correlation for Australian adults between smoking (number of cigarettes per day) and\n",
    "blood pressure is positive.\n",
    "iii. The mean grade point average this year of all college graduates in the U.S. is the same for\n",
    "females and males.\n",
    "```"
   ]
  },
  {
   "cell_type": "markdown",
   "metadata": {},
   "source": [
    "***Ans. 2. a.***\n",
    "\n",
    "In hypothesis testing, we use notation to represent the population parameter we want to make inferences about. The two main hypotheses are the null hypothesis (H0) and the alternative hypothesis (Ha). The null hypothesis represents the status quo or no effect, while the alternative hypothesis represents the opposite or the effect we want to investigate.\n",
    "\n",
    "Let's introduce notation for each scenario and state the null and alternative hypotheses:\n",
    "```\n",
    "i. The proportion of all adults in the UK who favor legalized gambling equals 0.50.\n",
    "```\n",
    "Notation: <br>\n",
    "Let p be the proportion of all UK adults who favor legalized gambling.\n",
    "\n",
    "Null Hypothesis (H0):<br>\n",
    "H0: p = 0.50\n",
    "\n",
    "Alternative Hypothesis (Ha):<br>\n",
    "Ha: p ≠ 0.50 (This is a two-tailed alternative hypothesis as we are testing if the proportion is not equal to 0.50.)\n",
    "```\n",
    "ii. The correlation for Australian adults between smoking (number of cigarettes per day) and blood pressure is positive.\n",
    "```\n",
    "Notation:<br>\n",
    "Let ρ be the population correlation between smoking (number of cigarettes per day) and blood pressure for Australian adults.\n",
    "\n",
    "Null Hypothesis (H0):<br>\n",
    "H0: ρ ≤ 0 (There is no correlation or a non-positive correlation between smoking and blood pressure.)\n",
    "\n",
    "Alternative Hypothesis (Ha):<br>\n",
    "Ha: ρ > 0 (There is a positive correlation between smoking and blood pressure.)\n",
    "```\n",
    "iii. The mean grade point average this year of all college graduates in the U.S. is the same for females and males.\n",
    "```\n",
    "Notation:<br>\n",
    "Let μf be the population mean grade point average for females in the U.S. college graduates.<br>\n",
    "Let μm be the population mean grade point average for males in the U.S. college graduates.\n",
    "\n",
    "Null Hypothesis (H0):<br>\n",
    "H0: μf = μm (The mean grade point averages for females and males are equal.)\n",
    "\n",
    "Alternative Hypothesis (Ha):<br>\n",
    "Ha: μf ≠ μm (This is a two-tailed alternative hypothesis as we are testing if the mean grade point averages are not equal for females and males.)"
   ]
  },
  {
   "cell_type": "markdown",
   "metadata": {},
   "source": [
    "***Q. 2. b.***\n",
    "\n",
    "```\n",
    "You want to know whether adults in your country think the ideal number of children is equal to 2 , on the average, or higher or lower than that.\n",
    "    i. Defining notation, state H0 and Hafor investigating this.\n",
    "    ii. Software shows these results for responses in a recent GSS to the question, ”What do youthink is the ideal number of children to have?”:\n",
    "        Test of μ = 2.0 vs μ ̸= 2.0\n",
    "        |Variable| n    |  Mean| StDev |SE_Mean| T    |P-value|\n",
    "        |Children| 1302 |2.490 | 0.850 |0.0236 |20.80 |0.0000|\n",
    "        Show how to obtain the test statistic from other values reported. Explain what the P-value\n",
    "        represents, and interpret its value.\n",
    "```"
   ]
  },
  {
   "cell_type": "markdown",
   "metadata": {},
   "source": [
    "***Ans. 2. b.***\n",
    "\n",
    "i. Defining Notation, State H0 and Ha:\n",
    "\n",
    "Let's define the notation for this hypothesis test:\n",
    "- μ: The population mean of the ideal number of children in the country.\n",
    "- H0 (Null Hypothesis): The population mean of the ideal number of children is equal to 2 (μ = 2).\n",
    "- Ha (Alternative Hypothesis): The population mean of the ideal number of children is not equal to 2 (μ ≠ 2).\n",
    "\n",
    "The hypothesis test aims to determine whether the average ideal number of children in the country is different from 2 (either higher or lower).\n",
    "\n",
    "ii. Obtaining the Test Statistic and Interpreting the P-value:\n",
    "\n",
    "From the results provided, we have the following information:\n",
    "- Sample Size (n): 1302\n",
    "- Sample Mean (Mean): 2.490\n",
    "- Sample Standard Deviation (StDev): 0.850\n",
    "- Standard Error of the Mean (SE Mean): 0.0236\n",
    "- Test Statistic (T): 20.80\n",
    "- P-value: 0.0000\n",
    "\n",
    "The test statistic (T) can be obtained by dividing the difference between the sample mean and the hypothesized population mean (μ = 2) by the standard error of the mean (SE Mean). Mathematically, it is given by:<br>\n",
    "T = (Mean - μ) / SE Mean\n",
    "\n",
    "In this case, the sample mean (Mean) is 2.490, and the hypothesized population mean (μ) is 2. The standard error of the mean (SE Mean) is 0.0236.\n",
    "\n",
    "T = (2.490 - 2) / 0.0236 ≈ 20.80\n",
    "\n",
    "The P-value represents the probability of obtaining a test statistic as extreme as the one observed (T = 20.80) under the assumption that the null hypothesis is true (μ = 2). In other words, it quantifies the evidence against the null hypothesis.\n",
    "\n",
    "A low P-value indicates strong evidence against the null hypothesis, suggesting that the observed sample mean (2.490) is significantly different from the hypothesized population mean (2). Conversely, a high P-value would indicate weaker evidence against the null hypothesis, suggesting that the observed sample mean could reasonably be explained by random sampling variability, and there is no significant difference between the sample mean and the hypothesized population mean.\n",
    "\n",
    "In this case, the reported P-value is 0.0000, which is extremely close to zero. Since the P-value is less than the typical significance level (e.g., α = 0.05), we reject the null hypothesis. This means there is strong evidence to suggest that the average ideal number of children in the country is significantly different from 2. The test results support the alternative hypothesis (Ha), indicating that adults in the country do not, on average, consider 2 as the ideal number of children."
   ]
  },
  {
   "cell_type": "markdown",
   "metadata": {},
   "source": [
    "***Q. 2. c.***\n",
    "```\n",
    "Ideally, results of a statistical analysis should not depend greatly on a single observation. In a sensitivity study, we re-do the analysis after deleting an outlier from the data set or changing its value to a more typical value and checking whether results change much. For the Anorexia data the weight change of 20.9 pounds for the cb group was a severe outlier. Suppose this observation was actually 2.9 pounds but recorded incorrectly. Find the P-value for testing H0 : μ1 = μ2 against Ha: μ1 ̸= μ2 with and without that observation. Summarize its influence.\n",
    "```"
   ]
  },
  {
   "cell_type": "markdown",
   "metadata": {},
   "source": [
    "***Ans. 2. c.***\n",
    "\n",
    "To find the P-value for testing H0: μ1 = μ2 against Ha: μ1 ≠ μ2 with and without the outlier observation, we will conduct an independent two-sample t-test. We'll compare the weight change for the cognitive behavioral (cb) group with the control (cont) group. First, we'll perform the t-test with the outlier observation (20.9 pounds), and then we'll correct the outlier by changing it to 2.9 pounds and re-do the t-test. Finally, we'll compare the P-values to summarize the influence of the outlier."
   ]
  },
  {
   "cell_type": "code",
   "execution_count": 75,
   "metadata": {},
   "outputs": [
    {
     "name": "stdout",
     "output_type": "stream",
     "text": [
      "Results without outlier:\n",
      "T-statistic: 1.667749691844813\n",
      "P-value: 0.1014985956595161\n",
      "\n",
      "Results with corrected outlier:\n",
      "T-statistic: 1.438304650533777\n",
      "P-value: 0.1568244439808692\n"
     ]
    }
   ],
   "source": [
    "# Anorexia data for the cb group and cont group (replace with actual data)\n",
    "cb_group_data = full_data[full_data['therapy'] == 'cb']\n",
    "cb_group_data = cb_group_data['Weight Change']\n",
    "\n",
    "cont_group_data = full_data[full_data['therapy'] == 'c']\n",
    "cont_group_data = cont_group_data['Weight Change']\n",
    "\n",
    "# Without outlier observation\n",
    "t_statistic_without_outlier, p_value_without_outlier = ttest_ind(cb_group_data, cont_group_data, equal_var=False)\n",
    "\n",
    "# Correct the outlier observation (20.9 pounds to 2.9 pounds)\n",
    "cb_group_data_corrected = pd.DataFrame(cb_group_data)\n",
    "cb_group_data_corrected = cb_group_data_corrected['Weight Change'].apply(lambda x: 2.9 if round(x, 1) == 20.9 else x)\n",
    "\n",
    "# With corrected outlier observation\n",
    "t_statistic_with_corrected_outlier, p_value_with_corrected_outlier = ttest_ind(cb_group_data_corrected, cont_group_data, equal_var=False)\n",
    "\n",
    "# Print the results\n",
    "print(\"Results without outlier:\")\n",
    "print(\"T-statistic:\", t_statistic_without_outlier)\n",
    "print(\"P-value:\", p_value_without_outlier)\n",
    "\n",
    "print(\"\\nResults with corrected outlier:\")\n",
    "print(\"T-statistic:\", t_statistic_with_corrected_outlier)\n",
    "print(\"P-value:\", p_value_with_corrected_outlier)\n"
   ]
  },
  {
   "cell_type": "markdown",
   "metadata": {},
   "source": [
    "The above Python code conducts independent two-sample t-tests with and without the outlier observation for the Anorexia data. The results are obtained in terms of t-statistics and P-values.\n",
    "\n",
    "The P-value represents the probability of obtaining a test statistic as extreme as the one observed under the assumption that the null hypothesis is true. A low P-value suggests strong evidence against the null hypothesis, while a high P-value indicates weaker evidence against the null hypothesis.\n",
    "\n",
    "If the P-value is smaller than the significance level (e.g., α = 0.05), we reject the null hypothesis, indicating that there is a significant difference between the means of the two groups. If the P-value is larger than α, we fail to reject the null hypothesis, suggesting that there is no significant difference between the means.\n",
    "\n",
    "Summary of Influence:\n",
    "\n",
    "Comparing the P-values with and without the outlier observation:\n",
    "\n",
    "Without outlier: The P-value may indicate strong evidence against the null hypothesis, suggesting a significant difference between the weight change means of the cb and cont groups.\n",
    "With corrected outlier: After correcting the outlier observation to 2.9 pounds, the P-value may change. Depending on the new P-value, it may still suggest evidence against the null hypothesis, or it may become larger, indicating weaker evidence against the null hypothesis.\n",
    "The presence of the severe outlier (20.9 pounds) may significantly influence the results of the t-test. By changing the outlier observation to a more typical value (2.9 pounds), the results of the t-test could differ, affecting the significance of the difference between the means of the two groups. This sensitivity analysis highlights the importance of identifying and handling outliers carefully to ensure the robustness of the statistical analysis and its conclusions."
   ]
  },
  {
   "cell_type": "markdown",
   "metadata": {},
   "source": [
    "***\n",
    "***"
   ]
  },
  {
   "cell_type": "markdown",
   "metadata": {},
   "source": []
  }
 ],
 "metadata": {
  "kernelspec": {
   "display_name": "Python 3",
   "language": "python",
   "name": "python3"
  },
  "language_info": {
   "codemirror_mode": {
    "name": "ipython",
    "version": 3
   },
   "file_extension": ".py",
   "mimetype": "text/x-python",
   "name": "python",
   "nbconvert_exporter": "python",
   "pygments_lexer": "ipython3",
   "version": "3.11.4"
  },
  "orig_nbformat": 4
 },
 "nbformat": 4,
 "nbformat_minor": 2
}
