{
 "cells": [
  {
   "cell_type": "markdown",
   "metadata": {},
   "source": [
    "# Homework 2 Simulations"
   ]
  },
  {
   "cell_type": "markdown",
   "metadata": {},
   "source": [
    "``Q. 5. ``\n",
    "\n",
    "A glass rod drops and breaks into 5 random pieces. Let’s find the probability that the smallest piece\n",
    "has length below 0.03. [Hint: Try to define a function to calculate length of smallest piece.]\n",
    "Modify the code in the above problem so that number of breaks is random, not just the break\n",
    "points. A reasonable model to try would be Poisson. However, the latter’s support starts at 0, and\n",
    "we cannot have 0 pieces, so we need to model the number of pieces minus 1 (the number of break\n",
    "points) as Poisson"
   ]
  },
  {
   "cell_type": "markdown",
   "metadata": {},
   "source": [
    "***Ans. 5.***\n",
    "\n",
    "To find the probability that the smallest piece has a length below 0.03, we can use the concept of the uniform distribution. We assume that the break points along the glass rod are uniformly distributed between 0 and 1. Then, we can define a function to calculate the length of the smallest piece based on the break points.\n",
    "\n",
    "Let X be a random variable representing the length of the smallest piece. We want to find P(X < 0.03).\n",
    "\n",
    "Here's the code to calculate the probability using Python:"
   ]
  },
  {
   "cell_type": "code",
   "execution_count": 94,
   "metadata": {},
   "outputs": [
    {
     "name": "stdout",
     "output_type": "stream",
     "text": [
      "Probability that the smallest piece has length below 0.03: 0.6272\n"
     ]
    }
   ],
   "source": [
    "import random\n",
    "\n",
    "def length_of_smallest_piece(num_breaks):\n",
    "    break_points = sorted([random.uniform(0,1) for _ in range(num_breaks)])\n",
    "    min_length = min(break_points[0], 1 - break_points[-1])\n",
    "    for i in range(1, num_breaks):\n",
    "        length = break_points[i] - break_points[i-1]\n",
    "        min_length = min(min_length, length)\n",
    "    return min_length\n",
    "\n",
    "def probability_smallest_piece_below_threshold(num_breaks, num_simulations):\n",
    "    count_below_threshold = 0\n",
    "    for _ in range(num_simulations):\n",
    "        min_length = length_of_smallest_piece(num_breaks)\n",
    "        if min_length < 0.03:\n",
    "            count_below_threshold += 1\n",
    "    probability = count_below_threshold / num_simulations\n",
    "    return probability\n",
    "\n",
    "num_breaks = 5\n",
    "num_simulations = 10000\n",
    "probability = probability_smallest_piece_below_threshold(num_breaks, num_simulations)\n",
    "print(\"Probability that the smallest piece has length below 0.03:\", probability)\n"
   ]
  },
  {
   "cell_type": "markdown",
   "metadata": {},
   "source": [
    "Now, to modify the code to model the number of pieces minus 1 as a Poisson distribution, we can use the numpy library to generate random numbers from a Poisson distribution. The Poisson distribution represents the number of events occurring in a fixed interval of time or space, given a known average rate.\n",
    "\n",
    "Here's the updated code:"
   ]
  },
  {
   "cell_type": "code",
   "execution_count": 95,
   "metadata": {},
   "outputs": [
    {
     "name": "stdout",
     "output_type": "stream",
     "text": [
      "Probability that the smallest piece has length below 0.03: 0.5907\n"
     ]
    }
   ],
   "source": [
    "import random\n",
    "import numpy as np\n",
    "\n",
    "def length_of_smallest_piece(num_breaks):\n",
    "    break_points = sorted([random.uniform(0,1) for _ in range(num_breaks)])\n",
    "    min_length = min(break_points[0], 1 - break_points[-1])\n",
    "    for i in range(1, num_breaks):\n",
    "        length = break_points[i] - break_points[i-1]\n",
    "        min_length = min(min_length, length)\n",
    "    return min_length\n",
    "\n",
    "def poisson_num_breaks(lam):\n",
    "    num_breaks = np.random.poisson(lam)\n",
    "    return num_breaks if num_breaks >= 2 else poisson_num_breaks(lam)\n",
    "\n",
    "def probability_smallest_piece_below_threshold(lam, num_simulations):\n",
    "    count_below_threshold = 0\n",
    "    for _ in range(num_simulations):\n",
    "        num_breaks = poisson_num_breaks(lam)\n",
    "        min_length = length_of_smallest_piece(num_breaks)\n",
    "        if min_length < 0.03:\n",
    "            count_below_threshold += 1\n",
    "    probability = count_below_threshold / num_simulations\n",
    "    return probability\n",
    "\n",
    "average_num_breaks = 5  # Average number of breaks (lambda for the Poisson distribution)\n",
    "num_simulations = 10000\n",
    "probability = probability_smallest_piece_below_threshold(average_num_breaks, num_simulations)\n",
    "print(\"Probability that the smallest piece has length below 0.03:\", probability)\n"
   ]
  },
  {
   "cell_type": "markdown",
   "metadata": {},
   "source": [
    "In this modified code, the number of breaks is generated from a Poisson distribution, and then the length of the smallest piece is calculated based on these break points. The probability of the smallest piece having a length below 0.03 is estimated through multiple simulations."
   ]
  },
  {
   "cell_type": "code",
   "execution_count": 88,
   "metadata": {},
   "outputs": [
    {
     "data": {
      "text/plain": [
       "2"
      ]
     },
     "execution_count": 88,
     "metadata": {},
     "output_type": "execute_result"
    }
   ],
   "source": [
    "np.random.poisson(5)"
   ]
  },
  {
   "cell_type": "code",
   "execution_count": null,
   "metadata": {},
   "outputs": [],
   "source": []
  }
 ],
 "metadata": {
  "kernelspec": {
   "display_name": "Python 3",
   "language": "python",
   "name": "python3"
  },
  "language_info": {
   "codemirror_mode": {
    "name": "ipython",
    "version": 3
   },
   "file_extension": ".py",
   "mimetype": "text/x-python",
   "name": "python",
   "nbconvert_exporter": "python",
   "pygments_lexer": "ipython3",
   "version": "3.11.4"
  },
  "orig_nbformat": 4
 },
 "nbformat": 4,
 "nbformat_minor": 2
}
