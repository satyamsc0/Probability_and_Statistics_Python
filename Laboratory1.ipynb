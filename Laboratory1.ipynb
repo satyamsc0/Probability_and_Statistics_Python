{
 "cells": [
  {
   "cell_type": "code",
   "execution_count": 8,
   "id": "b05c470f",
   "metadata": {},
   "outputs": [
    {
     "name": "stdout",
     "output_type": "stream",
     "text": [
      "Printing union set using method 1 : {1, 2, 3, 'a', 'b', 'c'}\n",
      "Printing union set using method 2 : {1, 2, 3, 'a', 'b', 'c'}\n"
     ]
    }
   ],
   "source": [
    "#Union\n",
    "example_set_1 = {1,2,3}\n",
    "example_set_2 = {'a','b','c'}\n",
    "#Method 1\n",
    "example_union_1 = example_set_1.union(example_set_2)\n",
    "print('Printing union set using method 1 :', example_union_1)\n",
    "# Method 2:\n",
    "example_union_2 = example_set_1|example_set_2\n",
    "print('Printing union set using method 2 :', example_union_2)"
   ]
  },
  {
   "cell_type": "code",
   "execution_count": 9,
   "id": "1a391a44",
   "metadata": {},
   "outputs": [
    {
     "name": "stdout",
     "output_type": "stream",
     "text": [
      "Printing intersection set using method 1 : {3}\n",
      "Printing intersection set using method 2 : {3}\n"
     ]
    }
   ],
   "source": [
    "#Intersection\n",
    "example_set_1 = {1,2,3}\n",
    "example_set_2 = {3,'b','c'}\n",
    "#Method 1\n",
    "example_intersection_1 = example_set_1.intersection(example_set_2)\n",
    "print('Printing intersection set using method 1 :', example_intersection_1)\n",
    "# Method 2:\n",
    "example_intersection_2 = example_set_1 & example_set_2\n",
    "print('Printing intersection set using method 2 :', example_intersection_2)"
   ]
  },
  {
   "cell_type": "code",
   "execution_count": 10,
   "id": "b9d2eebe",
   "metadata": {},
   "outputs": [
    {
     "name": "stdout",
     "output_type": "stream",
     "text": [
      "Printing set difference using method 1 : {1, 2}\n",
      "Printing set difference using method 2 : {1, 2}\n"
     ]
    }
   ],
   "source": [
    "# Set Difference\n",
    "#Intersection\n",
    "example_set_1 = {1,2,3}\n",
    "example_set_2 = {3,'b','c'}\n",
    "#Method 1\n",
    "example_diff_1 = example_set_1.difference(example_set_2)\n",
    "print('Printing set difference using method 1 :', example_diff_1)\n",
    "# Method 2:\n",
    "example_diff_2 = example_set_1 - example_set_2\n",
    "print('Printing set difference using method 2 :', example_diff_2)"
   ]
  },
  {
   "cell_type": "code",
   "execution_count": 11,
   "id": "a26bda5c",
   "metadata": {},
   "outputs": [],
   "source": [
    "import numpy as np"
   ]
  },
  {
   "cell_type": "code",
   "execution_count": 12,
   "id": "9d77aa4d",
   "metadata": {},
   "outputs": [],
   "source": [
    "#Define a function to simulate coin tosses\n",
    "def coin_toss():\n",
    "    if np.random.random()>= 0.5:\n",
    "        return 'H'\n",
    "    else:\n",
    "        return 'T'"
   ]
  },
  {
   "cell_type": "code",
   "execution_count": 13,
   "id": "cbbaaea3",
   "metadata": {},
   "outputs": [
    {
     "data": {
      "text/plain": [
       "{0: 'T',\n",
       " 1: 'T',\n",
       " 2: 'H',\n",
       " 3: 'H',\n",
       " 4: 'H',\n",
       " 5: 'H',\n",
       " 6: 'T',\n",
       " 7: 'T',\n",
       " 8: 'H',\n",
       " 9: 'T'}"
      ]
     },
     "execution_count": 13,
     "metadata": {},
     "output_type": "execute_result"
    }
   ],
   "source": [
    "# Simulate the coin toss and store the outcomes in a dictionary\n",
    "num_tosses = 10\n",
    "toss_results = {}\n",
    "for i in range(num_tosses):\n",
    "    toss_results[i] = coin_toss()\n",
    "toss_results   "
   ]
  },
  {
   "cell_type": "code",
   "execution_count": 14,
   "id": "28cbca82",
   "metadata": {},
   "outputs": [
    {
     "name": "stdout",
     "output_type": "stream",
     "text": [
      "Heads :  5\n",
      "Tails :  5\n"
     ]
    }
   ],
   "source": [
    "# Count the number of heads and tails\n",
    "print('Heads : ', sum([x=='H' for x in toss_results.values()]))\n",
    "print('Tails : ', sum([x=='T' for x in toss_results.values()]))"
   ]
  },
  {
   "cell_type": "code",
   "execution_count": 15,
   "id": "cb32ab3e",
   "metadata": {},
   "outputs": [
    {
     "name": "stdout",
     "output_type": "stream",
     "text": [
      "Heads :  5014\n",
      "Tails :  4986\n"
     ]
    }
   ],
   "source": [
    "# If toss many times, what fraction of times will we get heads?\n",
    "toss_results_list = [coin_toss() for x in range(10000)]\n",
    "\n",
    "print('Heads : ', sum([x=='H' for x in toss_results_list]))\n",
    "print('Tails : ', sum([x=='T' for x in toss_results_list]))"
   ]
  },
  {
   "cell_type": "code",
   "execution_count": 16,
   "id": "d03706d8",
   "metadata": {},
   "outputs": [],
   "source": [
    "def die_roll():\n",
    "    sample_space = [1,2,3,4,5,6]\n",
    "    proba = [1/len(sample_space) for x in range(len(sample_space))] # All throws are equally likely\n",
    "    return np.random.choice(sample_space, p=proba)"
   ]
  },
  {
   "cell_type": "code",
   "execution_count": 17,
   "id": "c1a35f63",
   "metadata": {},
   "outputs": [
    {
     "data": {
      "text/plain": [
       "5"
      ]
     },
     "execution_count": 17,
     "metadata": {},
     "output_type": "execute_result"
    }
   ],
   "source": [
    "die_roll()"
   ]
  },
  {
   "cell_type": "code",
   "execution_count": 18,
   "id": "f64dc50d",
   "metadata": {},
   "outputs": [
    {
     "data": {
      "text/plain": [
       "{2: 161, 6: 147, 3: 183, 5: 182, 1: 160, 4: 167}"
      ]
     },
     "execution_count": 18,
     "metadata": {},
     "output_type": "execute_result"
    }
   ],
   "source": [
    "from collections import Counter\n",
    "dict(Counter([die_roll() for x in range(1000)]))"
   ]
  },
  {
   "cell_type": "markdown",
   "id": "4628f8fc",
   "metadata": {},
   "source": [
    "Event space"
   ]
  },
  {
   "cell_type": "code",
   "execution_count": null,
   "id": "c5706875",
   "metadata": {},
   "outputs": [],
   "source": [
    "pip install matplotlib"
   ]
  },
  {
   "cell_type": "code",
   "execution_count": 22,
   "id": "00c6fe78",
   "metadata": {},
   "outputs": [],
   "source": [
    "import matplotlib.pyplot as plt"
   ]
  },
  {
   "cell_type": "code",
   "execution_count": 23,
   "id": "15838b15",
   "metadata": {},
   "outputs": [
    {
     "data": {
      "image/png": "[encoded data removed]",
      "text/plain": [
       "<Figure size 640x480 with 1 Axes>"
      ]
     },
     "metadata": {},
     "output_type": "display_data"
    }
   ],
   "source": [
    "# If a die is thrown many times, let's plot the number of times each face appear\n",
    "number_throws = 1000\n",
    "die_throw = Counter([die_roll() for x in range(number_throws)])\n",
    "plt.bar(x = die_throw.keys(), height = die_throw.values())\n",
    "plt.show()"
   ]
  },
  {
   "cell_type": "code",
   "execution_count": 24,
   "id": "1c5a052b",
   "metadata": {},
   "outputs": [
    {
     "name": "stdout",
     "output_type": "stream",
     "text": [
      "{2: 36, 3: 56, 4: 79, 5: 102, 6: 132, 7: 173, 8: 129, 9: 111, 10: 101, 11: 53, 12: 28}\n"
     ]
    }
   ],
   "source": [
    "# Lets sum the faces from two dice rolled many times\n",
    "number_throws = 1000\n",
    "die_sum = {k:v for k,v in sorted(Counter([die_roll()+die_roll() for x in range(number_throws)]).items(), key = lambda item: item[0])}\n",
    "print(die_sum)"
   ]
  },
  {
   "cell_type": "code",
   "execution_count": 25,
   "id": "99acb1f5",
   "metadata": {},
   "outputs": [
    {
     "data": {
      "image/png": "[encoded data removed]",
      "text/plain": [
       "<Figure size 640x480 with 1 Axes>"
      ]
     },
     "metadata": {},
     "output_type": "display_data"
    }
   ],
   "source": [
    "# Let's plot the values of the sum\n",
    "plt.bar(x = die_sum.keys(), height = die_sum.values())\n",
    "plt.show()"
   ]
  },
  {
   "cell_type": "markdown",
   "id": "37202ddc",
   "metadata": {},
   "source": [
    "What is the probability of winning a lottery where there are 100 tickets issued and bought? Why is the probability not half?"
   ]
  },
  {
   "cell_type": "code",
   "execution_count": 26,
   "id": "42c916d3",
   "metadata": {},
   "outputs": [],
   "source": [
    "# Lets write a function to pick a winning ticket number\n",
    "def lottery(number_of_tickets):\n",
    "    tickets = [x for x in range(1,number_of_tickets+1)] # Suppose tickets are numbered from 1 to N\n",
    "    proba = [1/len(tickets) for x in range(len(tickets))]\n",
    "    return np.random.choice(tickets, p=proba)"
   ]
  },
  {
   "cell_type": "code",
   "execution_count": 27,
   "id": "34874012",
   "metadata": {},
   "outputs": [
    {
     "data": {
      "text/plain": [
       "0.0088"
      ]
     },
     "execution_count": 27,
     "metadata": {},
     "output_type": "execute_result"
    }
   ],
   "source": [
    "# If there are 100 tickets, and you have bought ticket number 5, what is the probability of your win?\n",
    "\n",
    "# Let us run the lottery many times\n",
    "number_of_times = 10000\n",
    "winning_numbers = [lottery(100) for x in range(number_of_times)]\n",
    "\n",
    "# Let us check how many times 5 was the winning number\n",
    "wins = sum([x==5 for x in winning_numbers])\n",
    "\n",
    "# What can we say about the probability of winning?\n",
    "wins/number_of_times"
   ]
  },
  {
   "cell_type": "markdown",
   "id": "4dc3de1c",
   "metadata": {},
   "source": [
    "Question: What is the probability of getting a three or a seven when a fair die is rolled?"
   ]
  },
  {
   "cell_type": "code",
   "execution_count": 28,
   "id": "4dd13e17",
   "metadata": {},
   "outputs": [
    {
     "data": {
      "text/plain": [
       "0.16811"
      ]
     },
     "execution_count": 28,
     "metadata": {},
     "output_type": "execute_result"
    }
   ],
   "source": [
    "rolls = [die_roll() for x in range(100000)]\n",
    "(rolls.count(7)+rolls.count(3))/len(rolls)"
   ]
  },
  {
   "cell_type": "markdown",
   "id": "2bfb72b0",
   "metadata": {},
   "source": [
    "Question: What is the probability of getting two heads when a coin is tossed twice?"
   ]
  },
  {
   "cell_type": "code",
   "execution_count": 30,
   "id": "c65dbb79",
   "metadata": {},
   "outputs": [],
   "source": [
    "#Define a function to simulate coin tosses\n",
    "def coin_toss():\n",
    "    if np.random.random()>= 0.5:\n",
    "        return 1\n",
    "    else:\n",
    "        return 0"
   ]
  },
  {
   "cell_type": "code",
   "execution_count": 31,
   "id": "d8d84ca3",
   "metadata": {},
   "outputs": [
    {
     "data": {
      "text/plain": [
       "0.2522"
      ]
     },
     "execution_count": 31,
     "metadata": {},
     "output_type": "execute_result"
    }
   ],
   "source": [
    "tosses = [coin_toss()*coin_toss() for x in range(10000)]\n",
    "sum(tosses)/len(tosses)"
   ]
  },
  {
   "cell_type": "markdown",
   "id": "05ffbf4a",
   "metadata": {},
   "source": [
    "Question: The participants of a course include 7 men and 10 women from India, 5 men and 7 women from the USA. If a participant is picked at random, what is the probability that the participant is Indian or a man?"
   ]
  },
  {
   "cell_type": "code",
   "execution_count": 32,
   "id": "4596febc",
   "metadata": {},
   "outputs": [],
   "source": [
    "def participant_selector(m_i,w_i,m_u,w_u):\n",
    "    # Let's create the sample space with man_india, woman_india, man_usa and woman_usa to refer to the participants\n",
    "    participants = ['india_man']*m_i+['india_woman']*w_i+['usa_man']*m_u+['usa_woman']*w_u\n",
    "    np.random.shuffle(participants)\n",
    "    #print(participants)\n",
    "    proba = [1/len(participants) for x in range(len(participants))]\n",
    "    return np.random.choice(participants, p=proba)"
   ]
  },
  {
   "cell_type": "code",
   "execution_count": 33,
   "id": "cd3a5c9f",
   "metadata": {},
   "outputs": [
    {
     "data": {
      "text/plain": [
       "0.762"
      ]
     },
     "execution_count": 33,
     "metadata": {},
     "output_type": "execute_result"
    }
   ],
   "source": [
    "# Let us run the participant selection many times\n",
    "number_of_times = 1000\n",
    "selected_participants = [participant_selector(7,10,5,7) for x in range(number_of_times)]\n",
    "\n",
    "# Number of participants who are either indian or men = number of indians + number of men - number of indian men\n",
    "\n",
    "# Number of Indians\n",
    "n_indians = sum(['india' in x for x in selected_participants])\n",
    "# Number of men\n",
    "n_men = sum(['_man' in x for x in selected_participants])\n",
    "# Number of men who are indians\n",
    "n_indian_men = sum(['india_man' in x for x in selected_participants])\n",
    "\n",
    "n_indian_or_men = n_indians + n_men - n_indian_men\n",
    "\n",
    "# Probability\n",
    "n_indian_or_men/len(selected_participants)"
   ]
  },
  {
   "cell_type": "markdown",
   "id": "3a619794",
   "metadata": {},
   "source": [
    "Probability of complements:\n",
    "    \n",
    "Question: A bag contains 2 red balls, 3 blue balls and 2 green balls. What is the probability of picking a ball that's not red"
   ]
  },
  {
   "cell_type": "code",
   "execution_count": 34,
   "id": "8d605b34",
   "metadata": {},
   "outputs": [],
   "source": [
    "def ball_from_bag(red,blue,green):\n",
    "    # Let's create the sample space\n",
    "    bag = ['red']*red+['blue']*blue+['green']*green\n",
    "    np.random.shuffle(bag)\n",
    "    #print(bag)\n",
    "    proba = [1/len(bag) for x in range(len(bag))]\n",
    "    return np.random.choice(bag, p=proba)"
   ]
  },
  {
   "cell_type": "code",
   "execution_count": 35,
   "id": "e2c55b98",
   "metadata": {},
   "outputs": [
    {
     "data": {
      "text/plain": [
       "0.7111"
      ]
     },
     "execution_count": 35,
     "metadata": {},
     "output_type": "execute_result"
    }
   ],
   "source": [
    "# Let us run the selection many times\n",
    "number_of_times = 10000\n",
    "selections = [ball_from_bag(2,3,2) for x in range(number_of_times)]\n",
    "\n",
    "# Number of selections that are not red\n",
    "not_red = sum([x!='red' for x in selections])\n",
    "\n",
    "# Probability\n",
    "not_red/len(selections)"
   ]
  },
  {
   "cell_type": "markdown",
   "id": "34028ef9",
   "metadata": {},
   "source": [
    "Dependent Events and conditional probability and joint probability"
   ]
  },
  {
   "cell_type": "markdown",
   "id": "6796d076",
   "metadata": {},
   "source": [
    "1. A bag contains 4 red marbles and 3 blue marbles. You draw a marble from the bag. The marble drawn is blue. You return the marble to the bag and draw another. What is the proability that the second marble drawn is red?"
   ]
  },
  {
   "cell_type": "code",
   "execution_count": 36,
   "id": "d8d33d37",
   "metadata": {},
   "outputs": [],
   "source": [
    "def ball_from_bag(red,blue,green):\n",
    "    # Let's create the sample space\n",
    "    bag = ['red']*red+['blue']*blue+['green']*green\n",
    "    #print(bag)\n",
    "    np.random.shuffle(bag)\n",
    "    #print(bag)\n",
    "    proba = [1/len(bag) for x in range(len(bag))]\n",
    "    return np.random.choice(bag, p=proba)"
   ]
  },
  {
   "cell_type": "code",
   "execution_count": 37,
   "id": "67e89ffe",
   "metadata": {},
   "outputs": [
    {
     "data": {
      "text/plain": [
       "0.57305"
      ]
     },
     "execution_count": 37,
     "metadata": {},
     "output_type": "execute_result"
    }
   ],
   "source": [
    "# Let us run this experiment multiple times\n",
    "number_of_times = 100000\n",
    "# First selection\n",
    "selections_1 = [ball_from_bag(4,3,0) for x in range(number_of_times)]\n",
    "\n",
    "# Second selection after returning the first marble\n",
    "selections_2 = [ball_from_bag(4,3,0) for x in range(number_of_times)]\n",
    "\n",
    "#Probability of red in second draw\n",
    "red = sum([x=='red' for x in selections_2]) # Number of reds\n",
    "red/len(selections_2)"
   ]
  },
  {
   "cell_type": "markdown",
   "id": "4c9f7ab3",
   "metadata": {},
   "source": [
    "2. A bag contains 4 red marbles and 3 blue marbles. You draw a marble from the bag. The marble drawn is blue. You draw another marble. What is the proability that the second marble drawn is red?"
   ]
  },
  {
   "cell_type": "code",
   "execution_count": 38,
   "id": "c4c13e5e",
   "metadata": {},
   "outputs": [],
   "source": [
    "def ball_from_bag(red,blue,green):\n",
    "    # Let's create the sample space\n",
    "    bag = ['red']*red+['blue']*blue+['green']*green\n",
    "    #print(bag)\n",
    "    np.random.shuffle(bag)\n",
    "    #print(bag)\n",
    "    proba = [1/len(bag) for x in range(len(bag))]\n",
    "    return np.random.choice(bag, p=proba)"
   ]
  },
  {
   "cell_type": "code",
   "execution_count": 39,
   "id": "9918d9d0",
   "metadata": {},
   "outputs": [
    {
     "data": {
      "text/plain": [
       "0.661"
      ]
     },
     "execution_count": 39,
     "metadata": {},
     "output_type": "execute_result"
    }
   ],
   "source": [
    "# Let us run this experiment multiple times\n",
    "number_of_times = 1000\n",
    "# First selection\n",
    "selections_1 = [ball_from_bag(4,3,0) for x in range(number_of_times)]\n",
    "\n",
    "# Second selecttion. This time we have 1 blue less\n",
    "selections_2 = [ball_from_bag(4,2,0) for x in range(number_of_times)]\n",
    "\n",
    "#Probability of red in second draw\n",
    "red = sum([x=='red' for x in selections_2]) # Number of reds\n",
    "red/len(selections_2)"
   ]
  },
  {
   "cell_type": "code",
   "execution_count": 40,
   "id": "ef3926f9",
   "metadata": {},
   "outputs": [
    {
     "data": {
      "text/plain": [
       "0.6666666666666666"
      ]
     },
     "execution_count": 40,
     "metadata": {},
     "output_type": "execute_result"
    }
   ],
   "source": [
    "# p(r/b)\n",
    "\n",
    "(3/7)*(4/6)/(3/7)"
   ]
  },
  {
   "cell_type": "markdown",
   "id": "99b597bf",
   "metadata": {},
   "source": [
    "3. A bag contains 4 red marbles and 3 blue marbles. You draw two marbles from the bag, one after the other. What is the probability that the second marble is blue?"
   ]
  },
  {
   "cell_type": "code",
   "execution_count": 41,
   "id": "9b35e179",
   "metadata": {},
   "outputs": [],
   "source": [
    "def ball_from_bag_2(red,blue,green):\n",
    "    # Let's create the sample space\n",
    "    bag = ['red']*red+['blue']*blue+['green']*green\n",
    "    #print(bag)\n",
    "    np.random.shuffle(bag)\n",
    "    #print(bag)\n",
    "    proba = [1/len(bag) for x in range(len(bag))]\n",
    "    pick1 = np.random.choice(bag, p=proba)\n",
    "    #print(pick1)\n",
    "    # Remove pick 1 from bag since we are not returning it, before picking next\n",
    "    bag = ['red']*(red - 1*(pick1=='red')) + ['blue']*(blue - 1*(pick1=='blue')) + ['green']*(green - 1*(pick1=='green'))\n",
    "    #print(bag)\n",
    "    proba = [1/len(bag) for x in range(len(bag))]\n",
    "    pick2 = np.random.choice(bag, p=proba)\n",
    "    return [pick1, pick2]"
   ]
  },
  {
   "cell_type": "code",
   "execution_count": 42,
   "id": "61c8ec58",
   "metadata": {},
   "outputs": [
    {
     "data": {
      "text/plain": [
       "0.401"
      ]
     },
     "execution_count": 42,
     "metadata": {},
     "output_type": "execute_result"
    }
   ],
   "source": [
    "# Let us run this experiment multiple times\n",
    "number_of_times = 1000\n",
    "selections_1 = [ball_from_bag_2(4,3,0) for x in range(number_of_times)]\n",
    "#print(selections_1)\n",
    "second_blue = [x for x in selections_1 if x[1]=='blue'] # Finds cases where the second one is blue\n",
    "#print(second_blue)\n",
    "len(second_blue)/len(selections_1)"
   ]
  },
  {
   "cell_type": "code",
   "execution_count": 43,
   "id": "f97a7c1a",
   "metadata": {},
   "outputs": [
    {
     "data": {
      "text/plain": [
       "0.42857142857142855"
      ]
     },
     "execution_count": 43,
     "metadata": {},
     "output_type": "execute_result"
    }
   ],
   "source": [
    "(4/7)*(3/6) + (3/7)*(2/6)"
   ]
  },
  {
   "cell_type": "markdown",
   "id": "51397569",
   "metadata": {},
   "source": [
    "Bayes Theorem"
   ]
  },
  {
   "cell_type": "markdown",
   "id": "58aff75f",
   "metadata": {},
   "source": [
    "Question: A bag contains 4 red marbles and 3 blue marbles. You draw two marble from the bag, one by one. The second marble drawn is blue. What is the probability that the first marble drawn was red?"
   ]
  },
  {
   "cell_type": "code",
   "execution_count": 44,
   "id": "0987b3a0",
   "metadata": {},
   "outputs": [
    {
     "data": {
      "text/plain": [
       "0.6658354114713217"
      ]
     },
     "execution_count": 44,
     "metadata": {},
     "output_type": "execute_result"
    }
   ],
   "source": [
    "first_red = [x for x in second_blue if x[0]=='red']\n",
    "len(first_red)/len(second_blue)"
   ]
  },
  {
   "cell_type": "code",
   "execution_count": 45,
   "id": "43129e1f",
   "metadata": {},
   "outputs": [
    {
     "data": {
      "text/plain": [
       "0.6666666666666666"
      ]
     },
     "execution_count": 45,
     "metadata": {},
     "output_type": "execute_result"
    }
   ],
   "source": [
    "(4/7)*(3/6)/((4/7)*(3/6) + (3/7)*(2/6))"
   ]
  },
  {
   "cell_type": "markdown",
   "id": "baf63b77",
   "metadata": {},
   "source": [
    "Question: \n",
    "Given the following points, What is the probability that X has a disease D if X has a positive test result?\n",
    "\n",
    "1. One percent of X have D.\n",
    "2. Ninety percent of X who have D test positive.\n",
    "3. Eight percent of X will have false positives."
   ]
  },
  {
   "cell_type": "code",
   "execution_count": 46,
   "id": "b542e676",
   "metadata": {},
   "outputs": [
    {
     "data": {
      "text/plain": [
       "0.10204081632653063"
      ]
     },
     "execution_count": 46,
     "metadata": {},
     "output_type": "execute_result"
    }
   ],
   "source": [
    "0.9*0.01/(0.9*0.01 + 0.08*0.99)"
   ]
  },
  {
   "cell_type": "code",
   "execution_count": null,
   "id": "eba36dae",
   "metadata": {},
   "outputs": [],
   "source": [
    "def disease_given_test(n,p,tp_given_d,fp):\n",
    "    print('Population : ', n)\n",
    "    cases = [np.random.random()<=p for x in range(n)]\n",
    "    #print(cases)\n",
    "    number_cases = sum(cases)\n",
    "    print('Number of cases : ',number_cases)\n",
    "    correct_test_positive = [np.random.random()<=tp_given_d for x in range(number_cases)]\n",
    "    #print(correct_test_positive)\n",
    "    number_correct_positives = sum(correct_test_positive)\n",
    "    print('Number of correct test positives : ',number_correct_positives)\n",
    "    incorrect_test_positive = [np.random.random()<fp for x in range(n-number_cases)]\n",
    "    #print(incorrect_test_positive)\n",
    "    number_incorrect_positive = sum(incorrect_test_positive)\n",
    "    print('Number of incorrect test positives : ',number_incorrect_positive)\n",
    "    total_positive = number_correct_positives+number_incorrect_positive\n",
    "    print('Total positives : ',total_positive)\n",
    "    print('Probability of disease given test says positive : ',number_correct_positives/total_positive)\n",
    "    print('-'*50)\n",
    "    return number_correct_positives/total_positive"
   ]
  },
  {
   "cell_type": "code",
   "execution_count": null,
   "id": "9c029062",
   "metadata": {},
   "outputs": [],
   "source": [
    "disease_given_test(10000,0.01,0.9,0.08)"
   ]
  },
  {
   "cell_type": "code",
   "execution_count": null,
   "id": "3fe628db",
   "metadata": {},
   "outputs": [],
   "source": [
    "#Let us run this multiple times\n",
    "n_times = 1000\n",
    "p_disease_given_test_positive = [disease_given_test(1000,0.01,0.9,0.08) for x in range(n_times)]"
   ]
  },
  {
   "cell_type": "code",
   "execution_count": null,
   "id": "3e5d5c3b",
   "metadata": {},
   "outputs": [],
   "source": [
    "np.mean(p_disease_given_test_positive)"
   ]
  },
  {
   "cell_type": "code",
   "execution_count": null,
   "id": "4637eada",
   "metadata": {},
   "outputs": [],
   "source": [
    "# Why closed form solutions matter?\n",
    "# Why we need simulations if closed form solutions aren't possible?\n",
    "\n",
    "# If we roll three dice, what is the probability that their total is 8?\n",
    "\n",
    "# We could count all the possibilities, or we could get an approximate answer via simulation.\n",
    "\n",
    "# importing numpy\n",
    "import numpy as np\n",
    "import random\n",
    "np.random.seed(1234)\n",
    "\n",
    "def roll_dice(num_dice):\n",
    "    \"\"\"Return a list of integers with length `num_dice`.\n",
    "\n",
    "    Each integer in the returned list is a random number between\n",
    "    1 and 6, inclusive.\n",
    "    \"\"\"\n",
    "    roll_results = []\n",
    "    for i in range(num_dice):\n",
    "        roll = random.randint(1, 6)\n",
    "        roll_results.append(roll)\n",
    "    return roll_results\n",
    "\n",
    "def sum_simulation(num_dice, k, nreps):\n",
    "    sums = np.zeros(nreps)\n",
    "    for rep in range(nreps): \n",
    "     sums[rep]=sum(roll_dice(num_dice))\n",
    "    return np.count_nonzero(sums == k)/nreps\n",
    "\n"
   ]
  },
  {
   "cell_type": "code",
   "execution_count": null,
   "id": "179c3738-940d-4659-ba94-746cfe51b3b6",
   "metadata": {},
   "outputs": [],
   "source": [
    "simulation_result=sum_simulation(2, 7, 10) #10 repetitions\n",
    "print(simulation_result)\n",
    "\n",
    "simulation_result=sum_simulation(2, 7, 100) #100 repetitions\n",
    "print(simulation_result)\n",
    "\n",
    "simulation_result=sum_simulation(2, 7, 100) #1000 repetitions\n",
    "print(simulation_result)\n",
    "\n",
    "simulation_result=sum_simulation(2, 7, 100000) #100,000 repetitions\n",
    "print(simulation_result)\n"
   ]
  }
 ],
 "metadata": {
  "kernelspec": {
   "display_name": "Python 3 (ipykernel)",
   "language": "python",
   "name": "python3"
  },
  "language_info": {
   "codemirror_mode": {
    "name": "ipython",
    "version": 3
   },
   "file_extension": ".py",
   "mimetype": "text/x-python",
   "name": "python",
   "nbconvert_exporter": "python",
   "pygments_lexer": "ipython3",
   "version": "3.10.9"
  }
 },
 "nbformat": 4,
 "nbformat_minor": 5
}
